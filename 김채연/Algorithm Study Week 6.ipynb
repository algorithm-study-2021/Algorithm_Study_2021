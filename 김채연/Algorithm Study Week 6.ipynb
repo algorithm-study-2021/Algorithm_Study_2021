{
 "cells": [
  {
   "cell_type": "markdown",
   "id": "4c3dc57b",
   "metadata": {},
   "source": [
    "## 1. 가운데 글자 가져오기\n",
    "\n",
    "#### 문제 설명\n",
    "\n",
    "단어 s의 가운데 글자를 반환하는 함수, solution을 만들어 보세요. 단어의 길이가 짝수라면 가운데 두글자를 반환하면 됩니다.\n",
    "\n",
    "#### 제한사항\n",
    "\n",
    "s는 길이가 1 이상, 100이하인 스트링입니다.\n",
    "\n",
    "#### 입출력 예\n",
    "```\n",
    "s\t     return\n",
    "\"abcde\"\t\"c\"\n",
    "\"qwer\"\t\"we\"\n",
    "```"
   ]
  },
  {
   "cell_type": "code",
   "execution_count": 1,
   "id": "4c4f1fd9",
   "metadata": {},
   "outputs": [
    {
     "name": "stdout",
     "output_type": "stream",
     "text": [
      "c\n",
      "we\n"
     ]
    }
   ],
   "source": [
    "def solution(s):\n",
    "    if(len(s) % 2 == 0):\n",
    "        answer = s[len(s)//2-1]+s[len(s)//2]\n",
    "    else:\n",
    "        answer = s[len(s)//2]\n",
    "    return answer\n",
    "\n",
    "print(solution(\"abcde\"))\n",
    "print(solution(\"qwer\"))"
   ]
  },
  {
   "cell_type": "markdown",
   "id": "55844128",
   "metadata": {},
   "source": [
    "## 2. Summer/Winter Coding(~2018) 스킬트리\n",
    "\n",
    "#### 문제 설명\n",
    "\n",
    "선행 스킬이란 어떤 스킬을 배우기 전에 먼저 배워야 하는 스킬을 뜻합니다.\n",
    "\n",
    "예를 들어 선행 스킬 순서가 스파크 → 라이트닝 볼트 → 썬더일때, 썬더를 배우려면 먼저 라이트닝 볼트를 배워야 하고, 라이트닝 볼트를 배우려면 먼저 스파크를 배워야 합니다.\n",
    "\n",
    "위 순서에 없는 다른 스킬(힐링 등)은 순서에 상관없이 배울 수 있습니다. 따라서 스파크 → 힐링 → 라이트닝 볼트 → 썬더와 같은 스킬트리는 가능하지만, 썬더 → 스파크나 라이트닝 볼트 → 스파크 → 힐링 → 썬더와 같은 스킬트리는 불가능합니다.\n",
    "\n",
    "선행 스킬 순서 skill과 유저들이 만든 스킬트리1를 담은 배열 skill_trees가 매개변수로 주어질 때, 가능한 스킬트리 개수를 return 하는 solution 함수를 작성해주세요.\n",
    "\n",
    "#### 입출력 예\n",
    "```\n",
    "skill\t     skill_trees\t                return\n",
    "\"CBD\"\t[\"BACDE\", \"CBADF\", \"AECB\", \"BDA\"]\t2\n",
    "```"
   ]
  },
  {
   "cell_type": "code",
   "execution_count": 3,
   "id": "798b12f3",
   "metadata": {},
   "outputs": [
    {
     "name": "stdout",
     "output_type": "stream",
     "text": [
      "['2', '0', '3']\n",
      "0\n"
     ]
    }
   ],
   "source": [
    "def solution(skill, skill_trees):\n",
    "    answer = 0\n",
    "    i_skill = []\n",
    "    for i in skill:\n",
    "        i_skill += i\n",
    "    for i in skill_trees:\n",
    "        num_sunseo = []\n",
    "        for j in i_skill:\n",
    "            num_sunseo += str(i.index(j))\n",
    "        print(num_sunseo)\n",
    "        is_sorted = (sorted(num_sunseo) == num_sunseo)\n",
    "        if(is_sorted == True):\n",
    "            answer += 1\n",
    "    return answer\n",
    "\n",
    "print(solution(\"CBD\",[\"BACDE\"]))"
   ]
  },
  {
   "cell_type": "markdown",
   "id": "0e7e1ad4",
   "metadata": {},
   "source": [
    "## 3. 월간 코드 챌린지 시즌 1 쿼드압축 후 개수 세기\n",
    "\n",
    "#### 문제 설명\n",
    "\n",
    "0과 1로 이루어진 2n x 2n 크기의 2차원 정수 배열 arr이 있습니다. 당신은 이 arr을 쿼드 트리와 같은 방식으로 압축하고자 합니다. 구체적인 방식은 다음과 같습니다.\n",
    "\n",
    "당신이 압축하고자 하는 특정 영역을 S라고 정의합니다.\n",
    "만약 S 내부에 있는 모든 수가 같은 값이라면, S를 해당 수 하나로 압축시킵니다.\n",
    "그렇지 않다면, S를 정확히 4개의 균일한 정사각형 영역(입출력 예를 참고해주시기 바랍니다.)으로 쪼갠 뒤, 각 정사각형 영역에 대해 같은 방식의 압축을 시도합니다.\n",
    "arr이 매개변수로 주어집니다. 위와 같은 방식으로 arr을 압축했을 때, 배열에 최종적으로 남는 0의 개수와 1의 개수를 배열에 담아서 return 하도록 solution 함수를 완성해주세요.\n",
    "\n",
    "#### 입출력 예\n",
    "```\n",
    "arr\t                                        result\n",
    "[[1,1,0,0],[1,0,0,0],[1,0,0,1],[1,1,1,1]]\t[4,9]\n",
    "[[1,1,1,1,1,1,1,1],[0,1,1,1,1,1,1,1],[0,0,0,0,1,1,1,1],[0,1,0,0,1,1,1,1],[0,0,0,0,0,0,1,1],[0,0,0,0,0,0,0,1],[0,0,0,0,1,0,0,1],[0,0,0,0,1,1,1,1]]\t[10,15]\n",
    "```"
   ]
  },
  {
   "cell_type": "code",
   "execution_count": 5,
   "id": "65984e82",
   "metadata": {},
   "outputs": [
    {
     "name": "stdout",
     "output_type": "stream",
     "text": [
      "[4, 9]\n",
      "[10, 15]\n"
     ]
    }
   ],
   "source": [
    "def solution(arr):\n",
    "    answer = [0, 0]\n",
    "    N = len(arr)\n",
    "\n",
    "    def comp(x, y, n):\n",
    "        init = arr[x][y]  # 처음 비교 값을 init으로 정해둠\n",
    "       \n",
    "        for i in range(x, x + n): # 정사각형 한변 길이만큼 \n",
    "            for j in range(y, y + n): # 정사각형 한변 길이만큼 계속 반복 비교\n",
    "                if arr[i][j] != init:  # 한번이라도 다르면 그 네모는 압축불가\n",
    "                    nn = n // 2 # 정사각형 한변을 반절로 줄여버림(압축)\n",
    "                    comp(x, y, nn) # 다시 반복 0,0,2 : 1사분면\n",
    "                    comp(x, y + nn, nn) # 0,2,2 : 2사분면\n",
    "                    comp(x + nn, y, nn) # 2,0,2 : 3사분면\n",
    "                    comp(x + nn, y + nn, nn) # 2,2,2 # 4사분면\n",
    "                    return \n",
    "\n",
    "        answer[init] += 1 # 이부분 이해 안감\n",
    "\n",
    "    comp(0, 0, N)\n",
    "    return answer\n",
    "\n",
    "print(solution([[1,1,0,0],[1,0,0,0],[1,0,0,1],[1,1,1,1]]))\n",
    "print(solution([[1,1,1,1,1,1,1,1],[0,1,1,1,1,1,1,1],[0,0,0,0,1,1,1,1],[0,1,0,0,1,1,1,1],[0,0,0,0,0,0,1,1],[0,0,0,0,0,0,0,1],[0,0,0,0,1,0,0,1],[0,0,0,0,1,1,1,1]]))"
   ]
  },
  {
   "cell_type": "markdown",
   "id": "700bf71a",
   "metadata": {},
   "source": [
    "## 4. 2018 KAKAO BLIND RECRUITMENT 비밀지도\n",
    "\n",
    "https://programmers.co.kr/learn/courses/30/lessons/17681\n"
   ]
  },
  {
   "cell_type": "code",
   "execution_count": 7,
   "id": "e6afbfea",
   "metadata": {},
   "outputs": [],
   "source": [
    "def solution(n, arr1, arr2):\n",
    "    answer = []\n",
    "    arr1_bin = [] # 이진수로 바꿔 저장할 배열\n",
    "    arr2_bin = [] # 이진수로 바꿔 저장할 배열\n",
    "    for i in range(n):\n",
    "        arr1_bin.append(bin(arr1[i])[2:]) # bin을 사용하게 되면 앞에 binary를 의미하는 '0b'가 붙으므로 제외하고 배열에 넣어줌\n",
    "        arr2_bin.append(bin(arr2[i])[2:])\n",
    "        arr1_bin[i] = ('0' * (n-len(arr1_bin[i]))) + arr1_bin[i] # ex 10 -> 00010 으로 자리수 맞춰주는 작업\n",
    "        arr2_bin[i] = ('0' * (n-len(arr2_bin[i]))) + arr2_bin[i]\n",
    "    \n",
    "        tmp = ''\n",
    "        for p in range(n):\n",
    "            if arr1_bin[i][p] == '1' or arr2_bin[i][p] == '1': # 값이 1로 같으면 벽\n",
    "                tmp += '#'\n",
    "            elif arr1_bin[i][p] == '0' and arr2_bin[i][p] == '0': # 값이 0으로 같으면 길\n",
    "                tmp += ' '\n",
    "        answer.append(tmp)\n",
    "        \n",
    "    return answer"
   ]
  },
  {
   "cell_type": "markdown",
   "id": "f1361821",
   "metadata": {},
   "source": [
    "## 5. 부족한 금액 계산하기\n",
    "\n",
    "#### 문제 설명\n",
    "\n",
    "새로 생긴 놀이기구는 인기가 매우 많아 줄이 끊이질 않습니다. 이 놀이기구의 원래 이용료는 price원 인데, 놀이기구를 N 번 째 이용한다면 원래 이용료의 N배를 받기로 하였습니다. 즉, 처음 이용료가 100이었다면 2번째에는 200, 3번째에는 300으로 요금이 인상됩니다.\n",
    "놀이기구를 count번 타게 되면 현재 자신이 가지고 있는 금액에서 얼마가 모자라는지를 return 하도록 solution 함수를 완성하세요.\n",
    "단, 금액이 부족하지 않으면 0을 return 하세요.\n",
    "\n",
    "#### 입출력 예\n",
    "```\n",
    "price\tmoney\tcount\tresult\n",
    "3\t    20\t    4\t    10\n",
    "```"
   ]
  },
  {
   "cell_type": "code",
   "execution_count": 6,
   "id": "c28ee31a",
   "metadata": {},
   "outputs": [
    {
     "name": "stdout",
     "output_type": "stream",
     "text": [
      "10\n"
     ]
    }
   ],
   "source": [
    "def solution(price, money, count):\n",
    "\n",
    "    sum_price = 0\n",
    "    for i in range(1, count+1):\n",
    "        sum_price += price*i\n",
    "    if(sum_price>money):\n",
    "        return (sum_price - money)\n",
    "    else:\n",
    "        return 0;\n",
    "\n",
    "print(solution(3,20,4))"
   ]
  }
 ],
 "metadata": {
  "kernelspec": {
   "display_name": "Python 3",
   "language": "python",
   "name": "python3"
  },
  "language_info": {
   "codemirror_mode": {
    "name": "ipython",
    "version": 3
   },
   "file_extension": ".py",
   "mimetype": "text/x-python",
   "name": "python",
   "nbconvert_exporter": "python",
   "pygments_lexer": "ipython3",
   "version": "3.8.8"
  }
 },
 "nbformat": 4,
 "nbformat_minor": 5
}
