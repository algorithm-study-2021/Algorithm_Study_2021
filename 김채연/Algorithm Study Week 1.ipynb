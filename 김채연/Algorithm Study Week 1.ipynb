{
 "cells": [
  {
   "cell_type": "markdown",
   "metadata": {},
   "source": [
    "## 1. 직사각형 별찍기\n",
    "#### 문제 설명\n",
    "이 문제에는 표준 입력으로 두 개의 정수 n과 m이 주어집니다.\n",
    "별(*) 문자를 이용해 가로의 길이가 n, 세로의 길이가 m인 직사각형 형태를 출력해보세요.\n",
    "\n",
    "#### 제한 조건\n",
    "n과 m은 각각 1000 이하인 자연수입니다.\n",
    "\n",
    "\n",
    "#### 예시 입력\n",
    "\n",
    "```\n",
    "5 3\n",
    "```\n",
    "\n",
    "#### 출력\n",
    "```\n",
    "*****\n",
    "*****\n",
    "*****\n",
    "```"
   ]
  },
  {
   "cell_type": "code",
   "execution_count": 15,
   "metadata": {},
   "outputs": [
    {
     "name": "stdout",
     "output_type": "stream",
     "text": [
      "5 3\n",
      "*****\n",
      "*****\n",
      "*****\n"
     ]
    }
   ],
   "source": [
    "a, b = map(int, input().split(' '))\n",
    "for j in range(0, b):\n",
    "    for i in range(0, a):\n",
    "        print(\"*\", end = '')\n",
    "    print()"
   ]
  },
  {
   "cell_type": "markdown",
   "metadata": {},
   "source": [
    "## 2. x만큼 간격이 있는 n개의 숫자\n",
    "\n",
    "#### 문제 설명\n",
    "함수 solution은 정수 x와 자연수 n을 입력 받아, x부터 시작해 x씩 증가하는 숫자를 n개 지니는 리스트를 리턴해야 합니다. 다음 제한 조건을 보고, 조건을 만족하는 함수, solution을 완성해주세요.\n",
    "\n",
    "#### 제한 조건\n",
    "x는 -10000000 이상, 10000000 이하인 정수입니다.\n",
    "n은 1000 이하인 자연수입니다.\n",
    "\n",
    "#### 입출력 예\n",
    "```\n",
    "x\tn\tanswer\n",
    "2\t5\t[2,4,6,8,10]\n",
    "4\t3\t[4,8,12]\n",
    "-4\t2\t[-4, -8]\n",
    "```"
   ]
  },
  {
   "cell_type": "code",
   "execution_count": 27,
   "metadata": {},
   "outputs": [
    {
     "name": "stdout",
     "output_type": "stream",
     "text": [
      "-4 2\n"
     ]
    },
    {
     "data": {
      "text/plain": [
       "[-4, -8]"
      ]
     },
     "execution_count": 27,
     "metadata": {},
     "output_type": "execute_result"
    }
   ],
   "source": [
    "def solution(x, n):\n",
    "    answer = []\n",
    "    z = 0\n",
    "    for i in range(0, n):\n",
    "        z = z + x\n",
    "        answer.append(z)\n",
    "        n = n + 1\n",
    "    return answer\n",
    "\n",
    "x, n = map(int, input().split(' '))\n",
    "solution(x, n)"
   ]
  },
  {
   "cell_type": "markdown",
   "metadata": {},
   "source": [
    "## 3. N개의 최소공배수\n",
    "\n",
    "#### 문제 설명\n",
    "\n",
    "두 수의 최소공배수(Least Common Multiple)란 입력된 두 수의 배수 중 공통이 되는 가장 작은 숫자를 의미합니다. 예를 들어 2와 7의 최소공배수는 14가 됩니다. 정의를 확장해서, n개의 수의 최소공배수는 n 개의 수들의 배수 중 공통이 되는 가장 작은 숫자가 됩니다. n개의 숫자를 담은 배열 arr이 입력되었을 때 이 수들의 최소공배수를 반환하는 함수, solution을 완성해 주세요.\n",
    "\n",
    "#### 제한 사항\n",
    "\n",
    "arr은 길이 1이상, 15이하인 배열입니다.\n",
    "arr의 원소는 100 이하인 자연수입니다.\n",
    "\n",
    "#### 입출력 예\n",
    "```\n",
    "   arr\t     result\n",
    "[2,6,8,14]\t  168\n",
    "[1,2,3]\t6\n",
    "```"
   ]
  },
  {
   "cell_type": "code",
   "execution_count": 46,
   "metadata": {},
   "outputs": [
    {
     "name": "stdout",
     "output_type": "stream",
     "text": [
      "6\n",
      "1 2 3\n"
     ]
    }
   ],
   "source": [
    "from math import gcd\n",
    "\n",
    "def solution(arr):\n",
    "    \n",
    "    def lcm(x, y):\n",
    "        return x * y // gcd(x,y)\n",
    "    \n",
    "    while(1):\n",
    "        arr.append(lcm(arr.pop(), arr.pop()))\n",
    "        if len(arr) == 1:\n",
    "            return arr[0]\n",
    "        \n",
    "print(solution(arr))\n",
    "\n",
    "arr = input().split(' ')\n",
    "arr = list(map(int, arr))"
   ]
  },
  {
   "cell_type": "markdown",
   "metadata": {},
   "source": [
    "#### 1.\n",
    "\n",
    "파이썬 내장함수 gcd()를 이용한 lcm()에서 arr의 요소 두개를 pop()하여 최소공배수를 구한다. 구한 최소공배수는 arr로 다시 삽입한다."
   ]
  },
  {
   "cell_type": "markdown",
   "metadata": {},
   "source": [
    "## 4. JadenCase 문자열 만들기\n",
    "\n",
    "#### 문제 설명\n",
    "\n",
    "JadenCase란 모든 단어의 첫 문자가 대문자이고, 그 외의 알파벳은 소문자인 문자열입니다. 문자열 s가 주어졌을 때, s를 JadenCase로 바꾼 문자열을 리턴하는 함수, solution을 완성해주세요.\n",
    "\n",
    "#### 제한 조건\n",
    "\n",
    "s는 길이 1 이상인 문자열입니다.\n",
    "s는 알파벳과 공백문자(\" \")로 이루어져 있습니다.\n",
    "첫 문자가 영문이 아닐때에는 이어지는 영문은 소문자로 씁니다. ( 첫번째 입출력 예 참고 )\n",
    "\n",
    "#### 입출력 예\n",
    "\n",
    "```\n",
    "          s\t                   return\n",
    "          \n",
    "\"3people unFollowed me\"\t\"3people Unfollowed Me\"\n",
    "\"for the last week\"\t\"For The Last Week\"\n",
    "```"
   ]
  },
  {
   "cell_type": "code",
   "execution_count": 44,
   "metadata": {},
   "outputs": [
    {
     "data": {
      "text/plain": [
       "'3people Unfollowed Me'"
      ]
     },
     "execution_count": 44,
     "metadata": {},
     "output_type": "execute_result"
    }
   ],
   "source": [
    "def solution(s):\n",
    "    s = s.split(' ')\n",
    "    for i in range(0, len(s)):\n",
    "        s[i] = s[i].capitalize()\n",
    "    answer = (\" \".join(map(str, s)))\n",
    "    return answer\n",
    "\n",
    "solution('3people unFollowed me')"
   ]
  },
  {
   "cell_type": "markdown",
   "metadata": {},
   "source": [
    "#### 1.\n",
    "s.split()으로 쓰면 공백이 여러개여도 하나로 취급되기때문에 통과를 못했던 것...! \n",
    "공백이 여러개일 때도 분리시켜야하므로 s.split(' ')으로 쓰자\n",
    "\n",
    "#### 2.\n",
    "파이썬에서 str목록을 문자열로 변환할 때 '\" \".join(map(str, s))'와 같이 나타낸다.\n",
    "map함수는 str함수를 목록 s의 모든 항목에 적용하고 map 객체를 반환한다. \"\".join()은 map객체의 모든 요소를 반복하고 연결된 요소를 문자열로 반환한다."
   ]
  },
  {
   "cell_type": "markdown",
   "metadata": {},
   "source": [
    "## 5. 행렬의 덧셈\n",
    "\n",
    "#### 문제 설명\n",
    "\n",
    "행렬의 덧셈은 행과 열의 크기가 같은 두 행렬의 같은 행, 같은 열의 값을 서로 더한 결과가 됩니다. 2개의 행렬 arr1과 arr2를 입력받아, 행렬 덧셈의 결과를 반환하는 함수, solution을 완성해주세요.\n",
    "\n",
    "#### 제한 조건\n",
    "\n",
    "행렬 arr1, arr2의 행과 열의 길이는 500을 넘지 않습니다.\n",
    "\n",
    "#### 입출력 예\n",
    "```\n",
    "arr1\t             arr2\t        return\n",
    "[[1,2],[2,3]]\t[[3,4],[5,6]]\t[[4,6],[7,9]]\n",
    "[[1],[2]]\t       [[3],[4]]\t[[4],[6]]\n",
    "```"
   ]
  },
  {
   "cell_type": "code",
   "execution_count": 12,
   "metadata": {},
   "outputs": [
    {
     "name": "stdout",
     "output_type": "stream",
     "text": [
      "[[4], [6]]\n"
     ]
    }
   ],
   "source": [
    "arr1 = [[1],[2]]\n",
    "arr2 = [[3],[4]]\n",
    "\n",
    "answer = []\n",
    "\n",
    "for i in range (0, len(arr1)):\n",
    "    temp = []\n",
    "    for j in range (0, len(arr1[0])):\n",
    "        temp.append(arr1[i][j]+arr2[i][j])\n",
    "    answer.append(temp)\n",
    "print(answer)\n",
    "\n",
    "\"\"\"\n",
    "def solution(arr1, arr2):\n",
    "    answer = []\n",
    "    for i in range (0, len(arr1)):\n",
    "        temp = []\n",
    "        for j in range (0, len(arr1[0])):\n",
    "            temp.append(arr1[i][j]+arr2[i][j])\n",
    "        answer.append(temp)\n",
    "    return answer\n",
    "\"\"\""
   ]
  },
  {
   "cell_type": "markdown",
   "metadata": {},
   "source": [
    "## 6. 행렬의 곱셈\n",
    "\n",
    "#### 문제 설명\n",
    "\n",
    "2차원 행렬 arr1과 arr2를 입력받아, arr1에 arr2를 곱한 결과를 반환하는 함수, solution을 완성해주세요.\n",
    "\n",
    "#### 제한 조건\n",
    "\n",
    "행렬 arr1, arr2의 행과 열의 길이는 2 이상 100 이하입니다.\n",
    "행렬 arr1, arr2의 원소는 -10 이상 20 이하인 자연수입니다.\n",
    "곱할 수 있는 배열만 주어집니다.\n",
    "\n",
    "#### 입출력 예\n",
    "\n",
    "```\n",
    "          arr1\t                  arr2\t              return\n",
    "[[1, 4], [3, 2], [4, 1]]\t[[3, 3], [3, 3]]\t[[15, 15], [15, 15], [15, 15]]\n",
    "[[2, 3, 2], [4, 2, 4], [3, 1, 4]]\t[[5, 4, 3], [2, 4, 1], [3, 1, 1]]\t[[22, 22, 11], [36, 28, 18], [29, 20, 14]]\n",
    "```"
   ]
  },
  {
   "cell_type": "code",
   "execution_count": 4,
   "metadata": {},
   "outputs": [
    {
     "name": "stdout",
     "output_type": "stream",
     "text": [
      "[[ 0  2]\n",
      " [ 8 16]]\n"
     ]
    }
   ],
   "source": [
    "import numpy as np\n",
    "\n",
    "def solution(A, B):\n",
    "    answer = np.dot(A, B).tolist()\n",
    "    return answer\n",
    "\n",
    "\"\"\"\n",
    "def solution(A, B):\n",
    "    n = len(A)\n",
    "    if n == 1:\n",
    "        return A * B\n",
    "    \n",
    "    n2 = n//2\n",
    "    A11, A12, A21, A22 = A[:n2, :n2], A[:n2, n2:], A[n2:, :n2], A[n2:, n2:]\n",
    "    B11, B12, B21, B22 = B[:n2, :n2], B[:n2, n2:], B[n2:, :n2], B[n2:, n2:]\n",
    "    \n",
    "    M1 = solution(A11+A22, B11+B22)\n",
    "    M2 = solution(A21+A22, B11)\n",
    "    M3 = solution(A11, B12-B22)\n",
    "    M4 = solution(A22, B21-B11)\n",
    "    M5 = solution(A11+A12, B22)\n",
    "    M6 = solution(A21-A11, B11+B12)\n",
    "    M7 = solution(A12-A22, B21+B22)\n",
    "    \n",
    "    C11 = M1 + M4 - M5 + M7\n",
    "    C12 = M3 + M5\n",
    "    C21 = M2 + M4\n",
    "    C22 = M1 + M3 - M2 + M6\n",
    "    \n",
    "    C = np.vstack((np.hstack((C11, C12)), np.hstack((C21, C22))))\n",
    "    \n",
    "    return C\n",
    "    \n",
    "A = np.array([[0,1],[2,3]])\n",
    "B = np.array([[4,5],[0,2]])\n",
    "C = solution(A, B)\n",
    "print(C)\n",
    "\"\"\"\n",
    "\n",
    "\"\"\"\n",
    "import numpy as np\n",
    "\n",
    "def solution(A, B):\n",
    "    \n",
    "    A = np.array(A)\n",
    "    B = np.array(B)\n",
    "    \n",
    "    n = len(A)\n",
    "    if n == 1:\n",
    "        return A * B\n",
    "    \n",
    "    n2 = n//2\n",
    "    A11, A12, A21, A22 = A[:n2, :n2], A[:n2, n2:], A[n2:, :n2], A[n2:, n2:]\n",
    "    B11, B12, B21, B22 = B[:n2, :n2], B[:n2, n2:], B[n2:, :n2], B[n2:, n2:]\n",
    "    \n",
    "    M1 = solution(A11+A22, B11+B22)\n",
    "    M2 = solution(A21+A22, B11)\n",
    "    M3 = solution(A11, B12-B22)\n",
    "    M4 = solution(A22, B21-B11)\n",
    "    M5 = solution(A11+A12, B22)\n",
    "    M6 = solution(A21-A11, B11+B12)\n",
    "    M7 = solution(A12-A22, B21+B22)\n",
    "    \n",
    "    C11 = M1 + M4 - M5 + M7\n",
    "    C12 = M3 + M5\n",
    "    C21 = M2 + M4\n",
    "    C22 = M1 + M3 - M2 + M6\n",
    "    \n",
    "    C = np.vstack((np.hstack((C11, C12)), np.hstack((C21, C22)))).tolist()\n",
    "    \n",
    "    return C\n",
    "\n",
    "\"\"\"\n",
    "\n",
    "\"\"\"\n",
    "def solution(arr1, arr2):\n",
    "    answer = [[0 for _ in range(0, len(arr2[0]))] for _ in range(0, len(arr1))]\n",
    "    for i in range(len(arr1)):\n",
    "        for j in range(len(arr2[0])):\n",
    "            for k in range(len(arr1[0])):\n",
    "                answer[i][j] = answer[i][j] + (arr1[i][k] * arr2[k][j])\n",
    "    return answer\n",
    "\n",
    "arr1 = [[1,0],[0,1]]\n",
    "arr2 = [[3,2],[4,5]]\n",
    "\n",
    "print(solution(arr1, arr2))\n",
    "\"\"\""
   ]
  },
  {
   "attachments": {
    "image.png": {
     "image/png": "[encoded data removed]"
    }
   },
   "cell_type": "markdown",
   "metadata": {},
   "source": [
    "### 쉬트라센 알고리즘\n",
    "\n",
    "쉬트라센 방법은 행렬을 4개의 부분 행렬로 분할한다. n * n 행렬은 네 개의 n / 2 * n / 2 행렬 A11, A12, A21, A22(B행렬도 마찬가지)로 나눌 수 있다.\n",
    "\n",
    "![image.png](attachment:image.png)\n",
    "\n",
    "쉬트라센 알고리즘에 따라 다음 7개의 수식으로 C를 표현할 수 있다.\n",
    "\n",
    "![image.png](attachment:image.png)\n",
    "\n",
    "\n",
    "### 단순 알고리즘\n",
    "\n",
    "answer를 for문을 통한 반복문으로 결과 행렬만큼 0으로 초기화해준다.\n",
    "\n",
    "행렬 곱의 원리를 적용해서 삼중 for문을 만들얻 초기화했던 answer에 값을 더해준다."
   ]
  },
  {
   "cell_type": "markdown",
   "metadata": {},
   "source": [
    "## 7. 핸드폰 번호 가리기\n",
    "\n",
    "#### 문제 설명\n",
    "\n",
    "프로그래머스 모바일은 개인정보 보호를 위해 고지서를 보낼 때 고객들의 전화번호의 일부를 가립니다.\n",
    "전화번호가 문자열 phone_number로 주어졌을 때, 전화번호의 뒷 4자리를 제외한 나머지 숫자를 전부 *으로 가린 문자열을 리턴하는 함수, solution을 완성해주세요.\n",
    "\n",
    "#### 제한 조건\n",
    "\n",
    "s는 길이 4 이상, 20이하인 문자열입니다.\n",
    "\n",
    "#### 입출력 예\n",
    "\n",
    "```\n",
    "phone_number\t   return\n",
    "\"01033334444\"\t\"*******4444\"\n",
    "\"027778888\"\t    \"*****8888\"\n",
    "```"
   ]
  },
  {
   "cell_type": "code",
   "execution_count": 23,
   "metadata": {},
   "outputs": [
    {
     "data": {
      "text/plain": [
       "'*******7975'"
      ]
     },
     "execution_count": 23,
     "metadata": {},
     "output_type": "execute_result"
    }
   ],
   "source": [
    "def solution(phone_number):\n",
    "    answer = ''\n",
    "    for _ in range(len(phone_number)-4):\n",
    "        answer += '*'\n",
    "    answer += phone_number[len(phone_number)-4:]\n",
    "    return answer\n",
    "\n",
    "solution('01098567975')"
   ]
  },
  {
   "cell_type": "markdown",
   "metadata": {},
   "source": [
    "## 8. 하샤드 수\n",
    "\n",
    "#### 문제 설명\n",
    "\n",
    "양의 정수 x가 하샤드 수이려면 x의 자릿수의 합으로 x가 나누어져야 합니다. 예를 들어 18의 자릿수 합은 1+8=9이고, 18은 9로 나누어 떨어지므로 18은 하샤드 수입니다. 자연수 x를 입력받아 x가 하샤드 수인지 아닌지 검사하는 함수, solution을 완성해주세요.\n",
    "\n",
    "#### 제한 조건\n",
    "\n",
    "x는 1 이상, 10000 이하인 정수입니다.\n",
    "\n",
    "#### 입출력 예\n",
    "```\n",
    "arr\treturn\n",
    "10\ttrue\n",
    "12\ttrue\n",
    "11\tfalse\n",
    "13\tfalse\n",
    "```\n",
    "\n",
    "#### 입출력 예 설명\n",
    "\n",
    "입출력 예1\n",
    "10의 모든 자릿수의 합은 1입니다. 10은 1로 나누어 떨어지므로 10은 하샤드 수입니다.\n",
    "\n",
    "입출력 예2\n",
    "12의 모든 자릿수의 합은 3입니다. 12는 3으로 나누어 떨어지므로 12는 하샤드 수입니다.\n",
    "\n",
    "입출력 예3\n",
    "11의 모든 자릿수의 합은 2입니다. 11은 2로 나누어 떨어지지 않으므로 11는 하샤드 수가 아닙니다.\n",
    "\n",
    "입출력 예4\n",
    "13의 모든 자릿수의 합은 4입니다. 13은 4로 나누어 떨어지지 않으므로 13은 하샤드 수가 아닙니다."
   ]
  },
  {
   "cell_type": "code",
   "execution_count": 14,
   "metadata": {},
   "outputs": [
    {
     "name": "stdout",
     "output_type": "stream",
     "text": [
      "12\n"
     ]
    },
    {
     "data": {
      "text/plain": [
       "True"
      ]
     },
     "execution_count": 14,
     "metadata": {},
     "output_type": "execute_result"
    }
   ],
   "source": [
    "def solution(x):\n",
    "    sum = 0\n",
    "    tx = x\n",
    "    while(x>=10):\n",
    "        sum += x % 10\n",
    "        x = x // 10\n",
    "    sum += x\n",
    "    if(tx % sum == 0):\n",
    "        answer = True\n",
    "    else:\n",
    "        answer = False\n",
    "    return answer\n",
    "\n",
    "x = int(input())\n",
    "solution(x)"
   ]
  },
  {
   "cell_type": "markdown",
   "metadata": {},
   "source": [
    "## 9. 피보나치 수\n",
    "\n",
    "#### 문제 설명\n",
    "\n",
    "피보나치 수는 F(0) = 0, F(1) = 1일 때, 1 이상의 n에 대하여 F(n) = F(n-1) + F(n-2) 가 적용되는 수 입니다.\n",
    "\n",
    "예를들어\n",
    "\n",
    "F(2) = F(0) + F(1) = 0 + 1 = 1\n",
    "F(3) = F(1) + F(2) = 1 + 1 = 2\n",
    "F(4) = F(2) + F(3) = 1 + 2 = 3\n",
    "F(5) = F(3) + F(4) = 2 + 3 = 5\n",
    "와 같이 이어집니다.\n",
    "\n",
    "2 이상의 n이 입력되었을 때, n번째 피보나치 수를 1234567으로 나눈 나머지를 리턴하는 함수, solution을 완성해 주세요.\n",
    "\n",
    "#### 제한 사항\n",
    "\n",
    "* n은 1이상, 100000이하인 자연수입니다.\n",
    "\n",
    "#### 입출력 예\n",
    "```\n",
    "n\treturn\n",
    "3\t2\n",
    "5\t5\n",
    "```\n",
    "#### 입출력 예 설명\n",
    "\n",
    "피보나치수는 0번째부터 0, 1, 1, 2, 3, 5, ... 와 같이 이어집니다."
   ]
  },
  {
   "cell_type": "code",
   "execution_count": 28,
   "metadata": {},
   "outputs": [
    {
     "data": {
      "text/plain": [
       "2"
      ]
     },
     "execution_count": 28,
     "metadata": {},
     "output_type": "execute_result"
    }
   ],
   "source": [
    "def solution(n):\n",
    "    fi, se = 0, 1\n",
    "    for _ in range (n-1):\n",
    "        fi, se = se, fi + se \n",
    "    return se % 1234567\n",
    "\n",
    "solution(2)"
   ]
  },
  {
   "cell_type": "markdown",
   "metadata": {},
   "source": [
    "입력예시에 n이 100000까지 인데 왜 1234567로 나누라고 한지 모르겠다..\n",
    "\n",
    "처음엔 if-else를 활용한 재귀함수를 사용해서 풀었는데 런타임 에러가 나서 반복문으로 fi와 se의 자리를 왼쪽으로 한칸 씩 미는 방식으로 풀었다."
   ]
  },
  {
   "cell_type": "markdown",
   "metadata": {},
   "source": [
    "## 10. 평균 구하기\n",
    "\n",
    "#### 문제 설명\n",
    "\n",
    "정수를 담고 있는 배열 arr의 평균값을 return하는 함수, solution을 완성해보세요.\n",
    "\n",
    "#### 제한사항\n",
    "\n",
    "arr은 길이 1 이상, 100 이하인 배열입니다.\n",
    "arr의 원소는 -10,000 이상 10,000 이하인 정수입니다.\n",
    "\n",
    "#### 입출력 예\n",
    "```\n",
    "   arr\t   return\n",
    "[1,2,3,4]\t2.5\n",
    "[5,5]\t     5\n",
    "```"
   ]
  },
  {
   "cell_type": "code",
   "execution_count": 39,
   "metadata": {},
   "outputs": [
    {
     "name": "stdout",
     "output_type": "stream",
     "text": [
      "2.5\n"
     ]
    }
   ],
   "source": [
    "def solution(arr):\n",
    "    arr = list(map(int, arr))\n",
    "    answer = 0\n",
    "    for i in range(len(arr)):\n",
    "        answer += arr[i]\n",
    "    answer = answer / len(arr)\n",
    "    return answer\n",
    "\n",
    "arr = [1,2,3,4]\n",
    "print(solution(arr))"
   ]
  },
  {
   "cell_type": "markdown",
   "metadata": {},
   "source": [
    "sum 함수를 사용하자!\n",
    "\n",
    "```\n",
    "return (sum(list) / len(list))\n",
    "```"
   ]
  },
  {
   "cell_type": "code",
   "execution_count": 9,
   "metadata": {},
   "outputs": [
    {
     "name": "stdout",
     "output_type": "stream",
     "text": [
      "12\n"
     ]
    }
   ],
   "source": [
    "def solution(arr): \n",
    "    answer = 1\n",
    "    for i in range(len(arr)):\n",
    "        temp = 1\n",
    "        for j in range(answer*arr[i], 0, -1): # 큰수부터 작은수 차례로\n",
    "            if j%answer==0 and j%arr[i]==0:\n",
    "                temp = j\n",
    "        answer = temp\n",
    "    return answer\n",
    "\n",
    "arr = [1,2,3,4]\n",
    "print(solution(arr))"
   ]
  },
  {
   "cell_type": "code",
   "execution_count": null,
   "metadata": {},
   "outputs": [],
   "source": []
  }
 ],
 "metadata": {
  "kernelspec": {
   "display_name": "Python 3",
   "language": "python",
   "name": "python3"
  },
  "language_info": {
   "codemirror_mode": {
    "name": "ipython",
    "version": 3
   },
   "file_extension": ".py",
   "mimetype": "text/x-python",
   "name": "python",
   "nbconvert_exporter": "python",
   "pygments_lexer": "ipython3",
   "version": "3.8.3"
  }
 },
 "nbformat": 4,
 "nbformat_minor": 4
}
