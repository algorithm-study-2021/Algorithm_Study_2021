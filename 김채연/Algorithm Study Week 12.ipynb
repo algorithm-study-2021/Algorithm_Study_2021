{
 "cells": [
  {
   "cell_type": "markdown",
   "id": "10b71d2e",
   "metadata": {},
   "source": [
    "## 문제 1. 소수찾기\n",
    "\n",
    "#### 문제 URL: https://programmers.co.kr/learn/courses/30/lessons/42839"
   ]
  },
  {
   "cell_type": "code",
   "execution_count": 1,
   "id": "c92655a5",
   "metadata": {},
   "outputs": [
    {
     "name": "stdout",
     "output_type": "stream",
     "text": [
      "3\n"
     ]
    }
   ],
   "source": [
    "from itertools import permutations # 순열 사용\n",
    "\n",
    "def solution(numbers):\n",
    "    answer = []                                   \n",
    "    nums = [n for n in numbers] # 주어진 numbers를 자릿수 하나씩 자름\n",
    "    candidates = []                                      \n",
    "    for i in range(1, len(numbers)+1):  # 각 자리수 조합(?조합이라고해도되나)해서 숫자들을 순열로 모든 경우 만들기\n",
    "        candidates += list(permutations(nums, i)) # 후보리스트에 넣어줌\n",
    "    new_nums = [int((\"\").join(p)) for p in candidates] # 각 순열조합을 하나의 int형 숫자로 변환해서 저장\n",
    "\n",
    "    for n in new_nums: # 모든 int형 숫자에 대해 소수인지 판별\n",
    "        if n < 2: # 1, 0의 경우 소수 아님\n",
    "            continue\n",
    "        check = True            \n",
    "        for i in range(2,int(n**0.5) + 1): # n의 제곱근 보다 작은 숫자까지만 나눗셈\n",
    "            if n % i == 0: # 하나라도 나눠떨어진다면 소수 아님\n",
    "                check = False\n",
    "                break\n",
    "        if check:\n",
    "            answer.append(n) # 소수일경우 answer 배열에 추가\n",
    "\n",
    "    return len(set(answer)) # set으로중복 제거 후 반환\n",
    "print(solution(\"17\"))"
   ]
  },
  {
   "cell_type": "markdown",
   "id": "f1378085",
   "metadata": {},
   "source": [
    "## 순열 사용법\n",
    "```\n",
    "import itertools\n",
    "\n",
    "pool = ['A', 'B', 'C']\n",
    "print(list(map(''.join, itertools.permutations(pool)))) # 3개의 원소로 수열 만들기\n",
    "print(list(map(''.join, itertools.permutations(pool, 2)))) # 2개의 원소로 수열 만들기\n",
    "```"
   ]
  },
  {
   "cell_type": "markdown",
   "id": "d87bcefc",
   "metadata": {},
   "source": [
    "## 문제 2. 가장 큰수\n",
    "\n",
    "#### 문제 URL: https://programmers.co.kr/learn/courses/30/lessons/42746"
   ]
  },
  {
   "cell_type": "code",
   "execution_count": 4,
   "id": "2036fa2d",
   "metadata": {},
   "outputs": [
    {
     "name": "stdout",
     "output_type": "stream",
     "text": [
      "False\n",
      "True\n"
     ]
    }
   ],
   "source": [
    "# 효율성 50점 \n",
    "def solution(phone_book):\n",
    "    answer = True\n",
    "\n",
    "    for i in range(len(phone_book) - 1): # 리스트에서 하나씩 비교하는 방식\n",
    "        size = len(phone_book[i]) # 기준\n",
    "        for j in range(i+1, len(phone_book)):\n",
    "            length = len(phone_book[j]) # 비교 대상\n",
    "            # phone_book[i]의 size와 phone_book[j] length 비교해서 짧은 것을 선택하고\n",
    "            if length < size and phone_book[i][:length] == phone_book[j]: \n",
    "                answer = False\n",
    "                break\n",
    "            # 짧은것이 긴것의 접두어가 되는지 확인\n",
    "            elif phone_book[j][:size] == phone_book[i]:\n",
    "                answer = False\n",
    "                break\n",
    "        if not answer:\n",
    "            break\n",
    "\n",
    "    return answer\n",
    "print(solution([\"119\", \"97674223\", \"1195524421\"]))\n",
    "print(solution([\"123\",\"456\",\"789\"]))"
   ]
  },
  {
   "cell_type": "markdown",
   "id": "f749e01b",
   "metadata": {},
   "source": [
    "## 문제 3. 예산\n",
    "\n",
    "#### 문제 URL: https://programmers.co.kr/learn/courses/30/lessons/12982"
   ]
  },
  {
   "cell_type": "code",
   "execution_count": 5,
   "id": "f19de5c7",
   "metadata": {},
   "outputs": [
    {
     "name": "stdout",
     "output_type": "stream",
     "text": [
      "3\n"
     ]
    }
   ],
   "source": [
    "def solution(d, budget):\n",
    "    answer = 0\n",
    "    for i in sorted(d):# 예산이 가장 적은 부서부터 오름차순 정렬\n",
    "        budget -= i\n",
    "        if budget < 0:\n",
    "            break # 계속 빼줌\n",
    "        answer += 1\n",
    "        \n",
    "    return answer\n",
    "print(solution([1,3,2,5,4], 9))"
   ]
  },
  {
   "cell_type": "markdown",
   "id": "dd60f55d",
   "metadata": {},
   "source": [
    "## 문제 4. 3진법 뒤집기\n",
    "\n",
    "#### 문제 URL: https://programmers.co.kr/learn/courses/30/lessons/68935"
   ]
  },
  {
   "cell_type": "code",
   "execution_count": 6,
   "id": "834ba80e",
   "metadata": {},
   "outputs": [
    {
     "name": "stdout",
     "output_type": "stream",
     "text": [
      "7\n"
     ]
    }
   ],
   "source": [
    "# 내장함수 사용함 . . 헣\n",
    "def solution(n):\n",
    "    answer = ''\n",
    "\n",
    "    while n > 0:\n",
    "        n, re = divmod(n,3) # n을 3으로 나눈 몫과 나머지 (튜플)\n",
    "        answer += str(re)\n",
    "    return int(answer, 3)\n",
    "\n",
    "# int(x, base) : base 진법으로 구성된 str 형식의 수를 10진법으로 변환해 줌\n",
    "\n",
    "print(solution(45))"
   ]
  }
 ],
 "metadata": {
  "kernelspec": {
   "display_name": "Python 3",
   "language": "python",
   "name": "python3"
  },
  "language_info": {
   "codemirror_mode": {
    "name": "ipython",
    "version": 3
   },
   "file_extension": ".py",
   "mimetype": "text/x-python",
   "name": "python",
   "nbconvert_exporter": "python",
   "pygments_lexer": "ipython3",
   "version": "3.8.8"
  }
 },
 "nbformat": 4,
 "nbformat_minor": 5
}
