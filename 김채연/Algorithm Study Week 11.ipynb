{
 "cells": [
  {
   "cell_type": "markdown",
   "id": "512d59e2",
   "metadata": {},
   "source": [
    "## 1. 배달(Summer/Winter Coding ~2018) \n",
    "\n",
    "#### 문제 URL: https://programmers.co.kr/learn/courses/30/lessons/12978"
   ]
  },
  {
   "cell_type": "code",
   "execution_count": 15,
   "id": "887d7eca",
   "metadata": {},
   "outputs": [
    {
     "name": "stdout",
     "output_type": "stream",
     "text": [
      "4\n"
     ]
    }
   ],
   "source": [
    "from queue import PriorityQueue\n",
    "\n",
    "def dijkstra(road, N):\n",
    "    dist = [1000000] * (N + 1) \n",
    "    # 각 노드까지의 최단거리를 저장하는 배열 dist 선언하고 최대 시간으로 초기화\n",
    "    dist[1] = 0 # 시작노드 1은 0\n",
    "    pq = PriorityQueue() # 우선순위큐 pq 선언\n",
    "    pq.put([0,1]) # pq에 [노드까지의 거리, 노드 번호] 형식으로 저장\n",
    "    \n",
    "    while not pq.empty(): # pq가 비어있지 않으면 반복\n",
    "        cost, here = pq.get() # pq에서 꺼내서 각각 cost와 here에 저장\n",
    "        if cost > dist[here]: continue # dist[here]이 cost보다 작으면 continue, \n",
    "            #즉, dist에 저장된 here까지의 거리비용이 cost보다 작으면\n",
    "        \n",
    "        for i in range(len(road)): # road 원소 탐색\n",
    "            if road[i][0] == here: # 출발노드가 here과 같으면\n",
    "                cost2, there = road[i][2] + cost, road[i][1]\n",
    "                # 현재 비용에 there노드로 가는 비용 추가, there노드는 현재 road[i]의 도착노드에 해당하는 road[i][1]\n",
    "                if cost2 < dist[there]: # cost2가 dist[there]보다 작다면\n",
    "                    dist[there] = cost2\n",
    "                    pq.put([cost2, there])\n",
    "                    #dist[there]을 cost2로 변경하고, pq에 [cost2, there]을 추가한다.\n",
    "            elif road[i][1] == here: # 마찬가지\n",
    "                cost2, there = road[i][2] + cost, road[i][0]\n",
    "                if cost2 < dist[there]:\n",
    "                    dist[there] = cost2\n",
    "                    pq.put([cost2, there])\n",
    "    return dist # dist 배열 반환\n",
    "    \n",
    "def solution(N, road, K):\n",
    "    answer = 0\n",
    "    dist = dijkstra(road, N)\n",
    "    for i in dist:\n",
    "        if i <= K:\n",
    "            answer += 1\n",
    "    return answer\n",
    "\n",
    "print(solution(5, [[1,2,1],[2,3,3],[5,2,2],[1,4,2],[5,3,1],[5,4,2]],3))"
   ]
  },
  {
   "cell_type": "markdown",
   "id": "66181379",
   "metadata": {},
   "source": [
    "## 2. 두개 뽑아서 더하기(월간 코드 챌린지)\n",
    "\n",
    "#### 문제 URL: https://programmers.co.kr/learn/courses/30/lessons/68644"
   ]
  },
  {
   "cell_type": "code",
   "execution_count": 13,
   "id": "97763672",
   "metadata": {},
   "outputs": [
    {
     "name": "stdout",
     "output_type": "stream",
     "text": [
      "[2, 3, 4, 5, 6, 7]\n"
     ]
    }
   ],
   "source": [
    "def solution(numbers):\n",
    "    answer = []\n",
    "    for i in range(len(numbers)):\n",
    "        for j in range(i+1, len(numbers)):\n",
    "            answer.append(numbers[i]+numbers[j])\n",
    "        #answer.sort()\n",
    "    answer = set(answer)\n",
    "    answer = list(answer)\n",
    "    answer.sort()\n",
    "    return answer\n",
    "print(solution([2,1,3,4,1]))\n",
    "\n",
    "# 잘 돌아가는데 테케 4,5번에서 에러남.. 이유 모르겠음\n",
    "# sort()를 맨 마지막 줄로 내리니까 에러 안난다."
   ]
  },
  {
   "cell_type": "markdown",
   "id": "12094921",
   "metadata": {},
   "source": [
    "## 3. 괄호 회전하기(월간 코드 챌린지)\n",
    "\n",
    "#### 문제 URL: https://programmers.co.kr/learn/courses/30/lessons/76502"
   ]
  },
  {
   "cell_type": "code",
   "execution_count": 16,
   "id": "6a9579b1",
   "metadata": {
    "scrolled": true
   },
   "outputs": [
    {
     "name": "stdout",
     "output_type": "stream",
     "text": [
      "3\n"
     ]
    }
   ],
   "source": [
    "from collections import deque\n",
    "\n",
    "def solution(s):\n",
    "    answer = 0\n",
    "    queue = deque(s) #맨앞의 괄호를 빼고, 맨 뒤에 붙여줄거라 deque 사용\n",
    "    \n",
    "    for i in range(len(s)): # 괄호 수 만큼\n",
    "        tmp = queue.popleft() # 맨앞의 괄호를 pop해서 tmp에 저장\n",
    "        queue.append(tmp) # tmp를 queue의 맨뒤에 append\n",
    "        if checkPairs(queue) == True:\n",
    "            answer+=1 # 짝이 맞으면 값에 하나 더해줌\n",
    "            \n",
    "    return answer\n",
    "\n",
    "def checkPairs(queue):\n",
    "    stack = []\n",
    "    \n",
    "    for c in queue:\n",
    "        if c == '(' or c == '{' or c == '[': #괄호가 세개중 하나면 stack에 append\n",
    "            stack.append(c)\n",
    "        else:\n",
    "            if len(stack) == 0: # stack에 아무것도 없다면 괄호 짝이 하나도 없다는 것이므로 False\n",
    "                return False\n",
    "            x = stack.pop()\n",
    "            \n",
    "            # 밑 코드는 괄호 짝 검사\n",
    "            if c == ')' and x != '(':\n",
    "                return False\n",
    "            elif c == ')' and x != '(':\n",
    "                return False\n",
    "            elif c == '}' and x != '{':\n",
    "                return False\n",
    "            \n",
    "    return len(stack) == 0 #stack이 아무것도 없다면 True, 있다면 False 반환\n",
    "print(solution(\"[](){}\"))"
   ]
  },
  {
   "cell_type": "markdown",
   "id": "c9f0e97c",
   "metadata": {},
   "source": [
    "## 4. 후보키(2019 KAKAO BLIND RECRUITMENT)\n",
    "\n",
    "#### 문제 URL: https://programmers.co.kr/learn/courses/30/lessons/42890"
   ]
  },
  {
   "cell_type": "code",
   "execution_count": null,
   "id": "3f371526",
   "metadata": {},
   "outputs": [],
   "source": []
  },
  {
   "cell_type": "markdown",
   "id": "2bf80bb0",
   "metadata": {},
   "source": [
    "## 5. 순위 검색(2021 KAKAO BLIND RECRUITMENT)\n",
    "\n",
    "#### 문제 URL: https://programmers.co.kr/learn/courses/30/lessons/72412"
   ]
  },
  {
   "cell_type": "code",
   "execution_count": null,
   "id": "a5b1ea2d",
   "metadata": {},
   "outputs": [],
   "source": []
  }
 ],
 "metadata": {
  "kernelspec": {
   "display_name": "Python 3",
   "language": "python",
   "name": "python3"
  },
  "language_info": {
   "codemirror_mode": {
    "name": "ipython",
    "version": 3
   },
   "file_extension": ".py",
   "mimetype": "text/x-python",
   "name": "python",
   "nbconvert_exporter": "python",
   "pygments_lexer": "ipython3",
   "version": "3.8.8"
  }
 },
 "nbformat": 4,
 "nbformat_minor": 5
}
