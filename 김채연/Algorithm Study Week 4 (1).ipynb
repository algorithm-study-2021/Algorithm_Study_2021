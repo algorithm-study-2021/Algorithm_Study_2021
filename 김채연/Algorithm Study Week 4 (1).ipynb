{
 "cells": [
  {
   "cell_type": "markdown",
   "id": "83da43b1",
   "metadata": {},
   "source": [
    "## 1. 문자열 내 p와 y의 개수\n",
    "\n",
    "#### 문제 설명\n",
    "\n",
    "대문자와 소문자가 섞여있는 문자열 s가 주어집니다. s에 'p'의 개수와 'y'의 개수를 비교해 같으면 True, 다르면 False를 return 하는 solution를 완성하세요. 'p', 'y' 모두 하나도 없는 경우는 항상 True를 리턴합니다. 단, 개수를 비교할 때 대문자와 소문자는 구별하지 않습니다.\n",
    "\n",
    "예를 들어 s가 \"pPoooyY\"면 true를 return하고 \"Pyy\"라면 false를 return합니다.\n",
    "\n",
    "#### 제한사항\n",
    "\n",
    "문자열 s의 길이 : 50 이하의 자연수\n",
    "문자열 s는 알파벳으로만 이루어져 있습니다.\n",
    "\n",
    "#### 입출력 예\n",
    "\n",
    "    s\t    answer\n",
    "\"pPoooyY\"\ttrue\n",
    "\n",
    "\"Pyy\"\t    false\n",
    "\n",
    "#### 입출력 예 설명\n",
    "\n",
    "입출력 예 #1\n",
    "'p'의 개수 2개, 'y'의 개수 2개로 같으므로 true를 return 합니다.\n",
    "\n",
    "입출력 예 #2\n",
    "'p'의 개수 1개, 'y'의 개수 2개로 다르므로 false를 return 합니다."
   ]
  },
  {
   "cell_type": "code",
   "execution_count": 2,
   "id": "c76874a4",
   "metadata": {},
   "outputs": [
    {
     "name": "stdout",
     "output_type": "stream",
     "text": [
      "True\n"
     ]
    }
   ],
   "source": [
    "def solution(s):\n",
    "    sum = 0\n",
    "    for i in range(0, len(s)):\n",
    "        if s[i] == 'p' or s[i] == 'P':\n",
    "            sum += 1\n",
    "        if s[i] == 'y' or s[i] == 'Y':\n",
    "            sum -= 1\n",
    "        tmp = sum \n",
    "    if (tmp == 0):\n",
    "        return True\n",
    "    else:\n",
    "        return False  \n",
    "            \n",
    "s = \"pPoooyY\"   \n",
    "print(solution(s))\n"
   ]
  },
  {
   "cell_type": "markdown",
   "id": "899df452",
   "metadata": {},
   "source": [
    "+ if문으로 p, P가 나오면 +1해주고 y,Y나오면 -1을 해서 개수가 같으면 sum이 0이 될 것임을 이용했다."
   ]
  },
  {
   "cell_type": "markdown",
   "id": "f294f719",
   "metadata": {},
   "source": [
    "## 2. 문자열 내 마음대로 정렬하기\n",
    "\n",
    "#### 문제 설명\n",
    "\n",
    "문자열로 구성된 리스트 strings와, 정수 n이 주어졌을 때, 각 문자열의 인덱스 n번째 글자를 기준으로 오름차순 정렬하려 합니다. 예를 들어 strings가 [\"sun\", \"bed\", \"car\"]이고 n이 1이면 각 단어의 인덱스 1의 문자 \"u\", \"e\", \"a\"로 strings를 정렬합니다.\n",
    "\n",
    "#### 제한 조건\n",
    "\n",
    "strings는 길이 1 이상, 50이하인 배열입니다.\n",
    "strings의 원소는 소문자 알파벳으로 이루어져 있습니다.\n",
    "strings의 원소는 길이 1 이상, 100이하인 문자열입니다.\n",
    "모든 strings의 원소의 길이는 n보다 큽니다.\n",
    "인덱스 1의 문자가 같은 문자열이 여럿 일 경우, 사전순으로 앞선 문자열이 앞쪽에 위치합니다.\n",
    "\n",
    "#### 입출력 예\n",
    "\n",
    "strings\t                n\treturn\n",
    "[\"sun\", \"bed\", \"car\"]\t1\t[\"car\", \"bed\", \"sun\"]\n",
    "[\"abce\", \"abcd\", \"cdx\"]\t2\t[\"abcd\", \"abce\", \"cdx\"]\n",
    "\n",
    "#### 입출력 예 설명\n",
    "\n",
    "입출력 예 1\n",
    "\"sun\", \"bed\", \"car\"의 1번째 인덱스 값은 각각 \"u\", \"e\", \"a\" 입니다. 이를 기준으로 strings를 정렬하면 [\"car\", \"bed\", \"sun\"] 입니다.\n",
    "\n",
    "입출력 예 2\n",
    "\"abce\"와 \"abcd\", \"cdx\"의 2번째 인덱스 값은 \"c\", \"c\", \"x\"입니다. 따라서 정렬 후에는 \"cdx\"가 가장 뒤에 위치합니다. \"abce\"와 \"abcd\"는 사전순으로 정렬하면 \"abcd\"가 우선하므로, 답은 [\"abcd\", \"abce\", \"cdx\"] 입니다."
   ]
  },
  {
   "cell_type": "code",
   "execution_count": 3,
   "id": "ac575d39",
   "metadata": {},
   "outputs": [
    {
     "name": "stdout",
     "output_type": "stream",
     "text": [
      "['abcd', 'abce', 'cdx']\n"
     ]
    }
   ],
   "source": [
    "def solution(strings, n):\n",
    "    answer = []\n",
    "    for i in range(len(strings)):\n",
    "        strings[i] = strings[i][n] + strings[i]\n",
    "    strings.sort()\n",
    "    \n",
    "    for j in range(len(strings)):\n",
    "        answer.append(strings[j][1:])\n",
    "    return answer\n",
    "\n",
    "print(solution([\"abce\", \"abcd\", \"cdx\"], 2))"
   ]
  },
  {
   "cell_type": "markdown",
   "id": "14b1c702",
   "metadata": {},
   "source": [
    "+ n번째 글자를 글자 맨앞에다 붙여서 그 글자들을 기준으로 정렬해버린다."
   ]
  },
  {
   "cell_type": "markdown",
   "id": "c947ad16",
   "metadata": {},
   "source": [
    "## 3. 땅따먹기\n",
    "\n",
    "#### 문제 설명\n",
    "\n",
    "땅따먹기 게임을 하려고 합니다. 땅따먹기 게임의 땅(land)은 총 N행 4열로 이루어져 있고, 모든 칸에는 점수가 쓰여 있습니다. 1행부터 땅을 밟으며 한 행씩 내려올 때, 각 행의 4칸 중 한 칸만 밟으면서 내려와야 합니다. 단, 땅따먹기 게임에는 한 행씩 내려올 때, 같은 열을 연속해서 밟을 수 없는 특수 규칙이 있습니다.\n",
    "\n",
    "예를 들면,\n",
    "\n",
    "| 1 | 2 | 3 | 5 |\n",
    "\n",
    "| 5 | 6 | 7 | 8 |\n",
    "\n",
    "| 4 | 3 | 2 | 1 |\n",
    "\n",
    "로 땅이 주어졌다면, 1행에서 네번째 칸 (5)를 밟았으면, 2행의 네번째 칸 (8)은 밟을 수 없습니다.\n",
    "\n",
    "마지막 행까지 모두 내려왔을 때, 얻을 수 있는 점수의 최대값을 return하는 solution 함수를 완성해 주세요. 위 예의 경우, 1행의 네번째 칸 (5), 2행의 세번째 칸 (7), 3행의 첫번째 칸 (4) 땅을 밟아 16점이 최고점이 되므로 16을 return 하면 됩니다.\n",
    "\n",
    "#### 제한사항\n",
    "\n",
    "행의 개수 N : 100,000 이하의 자연수\n",
    "열의 개수는 4개이고, 땅(land)은 2차원 배열로 주어집니다.\n",
    "점수 : 100 이하의 자연수\n",
    "\n",
    "#### 입출력 예\n",
    "land\tanswer\n",
    "[[1,2,3,5],[5,6,7,8],[4,3,2,1]]\t16"
   ]
  },
  {
   "cell_type": "code",
   "execution_count": 1,
   "id": "5c27e563",
   "metadata": {},
   "outputs": [
    {
     "name": "stdout",
     "output_type": "stream",
     "text": [
      "[[1, 2, 3, 5], [10, 11, 12, 11], [4, 3, 2, 1]]\n",
      "[[1, 2, 3, 5], [10, 11, 12, 11], [16, 15, 13, 13]]\n",
      "16\n"
     ]
    }
   ],
   "source": [
    "def solution(land):\n",
    "    for i in range(0, len(land)-1):\n",
    "        land[i+1][0] += max(land[i][1],land[i][2],land[i][3])\n",
    "        land[i+1][1] += max(land[i][0],land[i][2],land[i][3])\n",
    "        land[i+1][2] += max(land[i][0],land[i][1],land[i][3])\n",
    "        land[i+1][3] += max(land[i][0],land[i][1],land[i][2])\n",
    "        print(land)\n",
    "    answer = max(land[len(land)-1])\n",
    "    return answer\n",
    "\n",
    "print(solution([[1,2,3,5],[5,6,7,8],[4,3,2,1]]))"
   ]
  },
  {
   "cell_type": "markdown",
   "id": "aadbeb13",
   "metadata": {},
   "source": [
    "+ 이전행에서 같은 열은 제외하고 최대값을 더해가는 방법"
   ]
  },
  {
   "cell_type": "markdown",
   "id": "0ffa95af",
   "metadata": {},
   "source": [
    "## 4. 두 정수 사이의 합\n",
    "\n",
    "#### 문제 설명\n",
    "\n",
    "두 정수 a, b가 주어졌을 때 a와 b 사이에 속한 모든 정수의 합을 리턴하는 함수, solution을 완성하세요.\n",
    "예를 들어 a = 3, b = 5인 경우, 3 + 4 + 5 = 12이므로 12를 리턴합니다.\n",
    "\n",
    "#### 제한 조건\n",
    "\n",
    "a와 b가 같은 경우는 둘 중 아무 수나 리턴하세요.\n",
    "a와 b는 -10,000,000 이상 10,000,000 이하인 정수입니다.\n",
    "a와 b의 대소관계는 정해져있지 않습니다.\n",
    "\n",
    "#### 입출력 예\n",
    "```\n",
    "a\tb\treturn\n",
    "3\t5\t12\n",
    "3\t3\t3\n",
    "5\t3\t12\n",
    "```"
   ]
  },
  {
   "cell_type": "code",
   "execution_count": 49,
   "id": "5c0a73e4",
   "metadata": {},
   "outputs": [
    {
     "name": "stdout",
     "output_type": "stream",
     "text": [
      "12\n"
     ]
    }
   ],
   "source": [
    "def solution(a, b):\n",
    "    if a >= b:\n",
    "        answer = sum(range(b,a+1))\n",
    "    else: \n",
    "        answer = sum(range(a,b+1))\n",
    "    return answer\n",
    "\n",
    "print(solution(5, 3))"
   ]
  },
  {
   "cell_type": "markdown",
   "id": "e4b7c099",
   "metadata": {},
   "source": [
    "## 5. 다음 큰 숫자\n",
    "\n",
    "#### 문제 설명\n",
    "\n",
    "자연수 n이 주어졌을 때, n의 다음 큰 숫자는 다음과 같이 정의 합니다.\n",
    "\n",
    "조건 1. n의 다음 큰 숫자는 n보다 큰 자연수 입니다.\n",
    "조건 2. n의 다음 큰 숫자와 n은 2진수로 변환했을 때 1의 갯수가 같습니다.\n",
    "조건 3. n의 다음 큰 숫자는 조건 1, 2를 만족하는 수 중 가장 작은 수 입니다.\n",
    "예를 들어서 78(1001110)의 다음 큰 숫자는 83(1010011)입니다.\n",
    "\n",
    "자연수 n이 매개변수로 주어질 때, n의 다음 큰 숫자를 return 하는 solution 함수를 완성해주세요.\n",
    "\n",
    "#### 제한 사항\n",
    "\n",
    "n은 1,000,000 이하의 자연수 입니다.\n",
    "\n",
    "#### 입출력 예\n",
    "```\n",
    "n\tresult\n",
    "78\t83\n",
    "15\t23\n",
    "```"
   ]
  },
  {
   "cell_type": "code",
   "execution_count": 6,
   "id": "88e8353e",
   "metadata": {},
   "outputs": [
    {
     "name": "stdout",
     "output_type": "stream",
     "text": [
      "83\n"
     ]
    }
   ],
   "source": [
    "def binary(num):\n",
    "    if num == 1:\n",
    "        return '1'\n",
    "    return binary(num//2) + str(num%2)\n",
    "\n",
    "\n",
    "\n",
    "def nextBigNumber(n):\n",
    "    answer = 0\n",
    "    nextBigNum = n+1\n",
    "    while binary(n).count('1') != binary(nextBigNum).count('1'):\n",
    "        nextBigNum += 1\n",
    "    return nextBigNum\n",
    "\n",
    "print(nextBigNumber(78))"
   ]
  },
  {
   "cell_type": "markdown",
   "id": "62d33ed9",
   "metadata": {},
   "source": [
    "+ bin() 함수 쓰자.. 다음부턴"
   ]
  },
  {
   "cell_type": "markdown",
   "id": "4b355950",
   "metadata": {},
   "source": [
    "## 6. 나누어 떨어지는 숫자 배열\n",
    "\n",
    "#### 문제 설명\n",
    "\n",
    "array의 각 element 중 divisor로 나누어 떨어지는 값을 오름차순으로 정렬한 배열을 반환하는 함수, solution을 작성해주세요.\n",
    "divisor로 나누어 떨어지는 element가 하나도 없다면 배열에 -1을 담아 반환하세요.\n",
    "\n",
    "#### 제한사항\n",
    "\n",
    "arr은 자연수를 담은 배열입니다.\n",
    "정수 i, j에 대해 i ≠ j 이면 arr[i] ≠ arr[j] 입니다.\n",
    "divisor는 자연수입니다.\n",
    "array는 길이 1 이상인 배열입니다.\n",
    "\n",
    "#### 입출력 예\n",
    "\n",
    "arr\tdivisor\treturn\n",
    "[5, 9, 7, 10]\t5\t[5, 10]\n",
    "[2, 36, 1, 3]\t1\t[1, 2, 3, 36]\n",
    "[3,2,6]\t10\t[-1]\n",
    "\n",
    "#### 입출력 예 설명\n",
    "\n",
    "입출력 예#1\n",
    "arr의 원소 중 5로 나누어 떨어지는 원소는 5와 10입니다. 따라서 [5, 10]을 리턴합니다.\n",
    "\n",
    "입출력 예#2\n",
    "arr의 모든 원소는 1으로 나누어 떨어집니다. 원소를 오름차순으로 정렬해 [1, 2, 3, 36]을 리턴합니다.\n",
    "\n",
    "입출력 예#3\n",
    "3, 2, 6은 10으로 나누어 떨어지지 않습니다. 나누어 떨어지는 원소가 없으므로 [-1]을 리턴합니다."
   ]
  },
  {
   "cell_type": "code",
   "execution_count": 52,
   "id": "938ec229",
   "metadata": {},
   "outputs": [
    {
     "name": "stdout",
     "output_type": "stream",
     "text": [
      "[5, 10]\n"
     ]
    }
   ],
   "source": [
    "def solution(arr, d):\n",
    "    answer = []\n",
    "\n",
    "    for num in arr:\n",
    "        if num % d == 0:\n",
    "            answer.append(num)\n",
    "            \n",
    "    if len(answer) == 0:\n",
    "        answer = [-1]\n",
    "        \n",
    "    return list(sorted(answer))\n",
    "\n",
    "print(solution([5, 9, 7, 10], 5))"
   ]
  },
  {
   "cell_type": "markdown",
   "id": "4cef27b6",
   "metadata": {},
   "source": [
    "## 7. 2018 KAKAO BLIND RECRUITMENT n진수 게임\n",
    "\n",
    "#### 문제 설명\n",
    "\n",
    "N진수 게임\n",
    "튜브가 활동하는 코딩 동아리에서는 전통적으로 해오는 게임이 있다. 이 게임은 여러 사람이 둥글게 앉아서 숫자를 하나씩 차례대로 말하는 게임인데, 규칙은 다음과 같다.\n",
    "\n",
    "숫자를 0부터 시작해서 차례대로 말한다. 첫 번째 사람은 0, 두 번째 사람은 1, … 열 번째 사람은 9를 말한다.\n",
    "10 이상의 숫자부터는 한 자리씩 끊어서 말한다. 즉 열한 번째 사람은 10의 첫 자리인 1, 열두 번째 사람은 둘째 자리인 0을 말한다.\n",
    "이렇게 게임을 진행할 경우,\n",
    "0, 1, 2, 3, 4, 5, 6, 7, 8, 9, 1, 0, 1, 1, 1, 2, 1, 3, 1, 4, …\n",
    "순으로 숫자를 말하면 된다.\n",
    "\n",
    "한편 코딩 동아리 일원들은 컴퓨터를 다루는 사람답게 이진수로 이 게임을 진행하기도 하는데, 이 경우에는\n",
    "0, 1, 1, 0, 1, 1, 1, 0, 0, 1, 0, 1, 1, 1, 0, 1, 1, 1, …\n",
    "순으로 숫자를 말하면 된다.\n",
    "\n",
    "이진수로 진행하는 게임에 익숙해져 질려가던 사람들은 좀 더 난이도를 높이기 위해 이진법에서 십육진법까지 모든 진법으로 게임을 진행해보기로 했다. 숫자 게임이 익숙하지 않은 튜브는 게임에 져서 벌칙을 받는 굴욕을 피하기 위해, 자신이 말해야 하는 숫자를 스마트폰에 미리 출력해주는 프로그램을 만들려고 한다. 튜브의 프로그램을 구현하라.\n",
    "\n",
    "#### 입력 형식\n",
    "\n",
    "진법 n, 미리 구할 숫자의 갯수 t, 게임에 참가하는 인원 m, 튜브의 순서 p 가 주어진다.\n",
    "\n",
    "2 ≦ n ≦ 16\n",
    "0 ＜ t ≦ 1000\n",
    "2 ≦ m ≦ 100\n",
    "1 ≦ p ≦ m\n",
    "출력 형식\n",
    "튜브가 말해야 하는 숫자 t개를 공백 없이 차례대로 나타낸 문자열. 단, 10~15는 각각 대문자 A~F로 출력한다.\n",
    "\n",
    "#### 입출력 예제\n",
    "```\n",
    "n\tt\tm\tp\tresult\n",
    "2\t4\t2\t1\t\"0111\"\n",
    "16\t16\t2\t1\t\"02468ACE11111111\"\n",
    "16\t16\t2\t2\t\"13579BDF01234567\"\n",
    "```"
   ]
  },
  {
   "cell_type": "code",
   "execution_count": 2,
   "id": "1ce4d362",
   "metadata": {},
   "outputs": [],
   "source": [
    "# 내코드 아님\n",
    "DIGITS = list('0123456789ABCDEF')\n",
    "\n",
    "\n",
    "def n2base(n, base):\n",
    "    if n == 0:\n",
    "        return DIGITS[0]\n",
    "\n",
    "    # 각 자리수에 해당하는 문자열을 담을 리스트\n",
    "    digits = []\n",
    "    while n > 0:\n",
    "        # 제일 마지막 자리의 숫자 구하기. 예를 들어 1658이면 '8'\n",
    "        digits.append(DIGITS[n % base])\n",
    "        # 제일 마지막 자리 제거. 예를 들어 1658이면 165로\n",
    "        n = int(n // base)\n",
    "\n",
    "    # 뒤집어서 반환. 예를 들어 '8561'이면 '1658'\n",
    "    return ''.join(digits[::-1])\n",
    "\n",
    "\n",
    "def solution(n, t, m, p):\n",
    "    digits = []\n",
    "    turn = 0\n",
    "    while len(digits) < t * m:\n",
    "        digits += list(n2base(turn, n))\n",
    "        turn += 1\n",
    "    return ''.join(digits[p-1::m][:t])"
   ]
  },
  {
   "cell_type": "markdown",
   "id": "34ca41ce",
   "metadata": {},
   "source": [
    "## 8. 올바른 괄호\n",
    "\n",
    "#### 문제 설명\n",
    "\n",
    "괄호가 바르게 짝지어졌다는 것은 '(' 문자로 열렸으면 반드시 짝지어서 ')' 문자로 닫혀야 한다는 뜻입니다. 예를 들어\n",
    "\n",
    "\"()()\" 또는 \"(())()\" 는 올바른 괄호입니다.\n",
    "\")()(\" 또는 \"(()(\" 는 올바르지 않은 괄호입니다.\n",
    "'(' 또는 ')' 로만 이루어진 문자열 s가 주어졌을 때, 문자열 s가 올바른 괄호이면 true를 return 하고, 올바르지 않은 괄호이면 false를 return 하는 solution 함수를 완성해 주세요.\n",
    "\n",
    "#### 제한사항\n",
    "\n",
    "문자열 s의 길이 : 100,000 이하의 자연수\n",
    "문자열 s는 '(' 또는 ')' 로만 이루어져 있습니다.\n",
    "\n",
    "#### 입출력 예\n",
    "```\n",
    "s\tanswer\n",
    "\"()()\"\ttrue\n",
    "\"(())()\"\ttrue\n",
    "\")()(\"\tfalse\n",
    "\"(()(\"\tfalse\n",
    "```\n",
    "\n",
    "#### 입출력 예 설명\n",
    "\n",
    "입출력 예 #1,2,3,4\n",
    "문제의 예시와 같습니다."
   ]
  },
  {
   "cell_type": "code",
   "execution_count": 55,
   "id": "86a74f64",
   "metadata": {},
   "outputs": [
    {
     "name": "stdout",
     "output_type": "stream",
     "text": [
      "True\n"
     ]
    }
   ],
   "source": [
    "def solution(s):\n",
    "    stack = []\n",
    "    for i in s:\n",
    "        if i == '(':  # '('일 경우 stack에 넣음\n",
    "            stack.append(i)\n",
    "        else:  # i == ')'인 경우엔\n",
    "            if stack == []:  # 비어있으면 안됨.\n",
    "                return False\n",
    "            else:\n",
    "                stack.pop()  # 짝이 맞는 경우이므로 pop으로 빼옴\n",
    "    \n",
    "    if stack == []:\n",
    "        return True\n",
    "    else:\n",
    "        return False\n",
    "\n",
    "print(solution(\"()()\"))"
   ]
  },
  {
   "cell_type": "markdown",
   "id": "b9a0ca63",
   "metadata": {},
   "source": [
    "## 9. 2018 KAKAO BLIND RECRUITMENT 파일명 정렬\n",
    "\n",
    "#### 문제 설명\n",
    "\n",
    "파일명 정렬\n",
    "세 차례의 코딩 테스트와 두 차례의 면접이라는 기나긴 블라인드 공채를 무사히 통과해 카카오에 입사한 무지는 파일 저장소 서버 관리를 맡게 되었다.\n",
    "\n",
    "저장소 서버에는 프로그램의 과거 버전을 모두 담고 있어, 이름 순으로 정렬된 파일 목록은 보기가 불편했다. 파일을 이름 순으로 정렬하면 나중에 만들어진 ver-10.zip이 ver-9.zip보다 먼저 표시되기 때문이다.\n",
    "\n",
    "버전 번호 외에도 숫자가 포함된 파일 목록은 여러 면에서 관리하기 불편했다. 예컨대 파일 목록이 [\"img12.png\", \"img10.png\", \"img2.png\", \"img1.png\"]일 경우, 일반적인 정렬은 [\"img1.png\", \"img10.png\", \"img12.png\", \"img2.png\"] 순이 되지만, 숫자 순으로 정렬된 [\"img1.png\", \"img2.png\", \"img10.png\", img12.png\"] 순이 훨씬 자연스럽다.\n",
    "\n",
    "무지는 단순한 문자 코드 순이 아닌, 파일명에 포함된 숫자를 반영한 정렬 기능을 저장소 관리 프로그램에 구현하기로 했다.\n",
    "\n",
    "소스 파일 저장소에 저장된 파일명은 100 글자 이내로, 영문 대소문자, 숫자, 공백(\" \"), 마침표(\".\"), 빼기 부호(\"-\")만으로 이루어져 있다. 파일명은 영문자로 시작하며, 숫자를 하나 이상 포함하고 있다.\n",
    "\n",
    "파일명은 크게 HEAD, NUMBER, TAIL의 세 부분으로 구성된다.\n",
    "\n",
    "HEAD는 숫자가 아닌 문자로 이루어져 있으며, 최소한 한 글자 이상이다.\n",
    "NUMBER는 한 글자에서 최대 다섯 글자 사이의 연속된 숫자로 이루어져 있으며, 앞쪽에 0이 올 수 있다. 0부터 99999 사이의 숫자로, 00000이나 0101 등도 가능하다.\n",
    "TAIL은 그 나머지 부분으로, 여기에는 숫자가 다시 나타날 수도 있으며, 아무 글자도 없을 수 있다.\n",
    "파일명\tHEAD\tNUMBER\tTAIL\n",
    "foo9.txt\tfoo\t9\t.txt\n",
    "foo010bar020.zip\tfoo\t010\tbar020.zip\n",
    "F-15\tF-\t15\t(빈 문자열)\n",
    "파일명을 세 부분으로 나눈 후, 다음 기준에 따라 파일명을 정렬한다.\n",
    "\n",
    "파일명은 우선 HEAD 부분을 기준으로 사전 순으로 정렬한다. 이때, 문자열 비교 시 대소문자 구분을 하지 않는다. MUZI와 muzi, MuZi는 정렬 시에 같은 순서로 취급된다.\n",
    "파일명의 HEAD 부분이 대소문자 차이 외에는 같을 경우, NUMBER의 숫자 순으로 정렬한다. 9 < 10 < 0011 < 012 < 13 < 014 순으로 정렬된다. 숫자 앞의 0은 무시되며, 012와 12는 정렬 시에 같은 같은 값으로 처리된다.\n",
    "두 파일의 HEAD 부분과, NUMBER의 숫자도 같을 경우, 원래 입력에 주어진 순서를 유지한다. MUZI01.zip과 muzi1.png가 입력으로 들어오면, 정렬 후에도 입력 시 주어진 두 파일의 순서가 바뀌어서는 안 된다.\n",
    "무지를 도와 파일명 정렬 프로그램을 구현하라.\n",
    "\n",
    "#### 입력 형식\n",
    "\n",
    "입력으로 배열 files가 주어진다.\n",
    "\n",
    "files는 1000 개 이하의 파일명을 포함하는 문자열 배열이다.\n",
    "각 파일명은 100 글자 이하 길이로, 영문 대소문자, 숫자, 공백(\" \"), 마침표(\".\"), 빼기 부호(\"-\")만으로 이루어져 있다. 파일명은 영문자로 시작하며, 숫자를 하나 이상 포함하고 있다.\n",
    "중복된 파일명은 없으나, 대소문자나 숫자 앞부분의 0 차이가 있는 경우는 함께 주어질 수 있다. (muzi1.txt, MUZI1.txt, muzi001.txt, muzi1.TXT는 함께 입력으로 주어질 수 있다.)\n",
    "\n",
    "#### 출력 형식\n",
    "\n",
    "위 기준에 따라 정렬된 배열을 출력한다.\n",
    "\n",
    "#### 입출력 예제\n",
    "\n",
    "입력: [\"img12.png\", \"img10.png\", \"img02.png\", \"img1.png\", \"IMG01.GIF\", \"img2.JPG\"]\n",
    "출력: [\"img1.png\", \"IMG01.GIF\", \"img02.png\", \"img2.JPG\", \"img10.png\", \"img12.png\"]\n",
    "\n",
    "입력: [\"F-5 Freedom Fighter\", \"B-50 Superfortress\", \"A-10 Thunderbolt II\", \"F-14 Tomcat\"]\n",
    "출력: [\"A-10 Thunderbolt II\", \"B-50 Superfortress\", \"F-5 Freedom Fighter\", \"F-14 Tomcat\"]"
   ]
  },
  {
   "cell_type": "code",
   "execution_count": 10,
   "id": "eea9fafe",
   "metadata": {
    "scrolled": true
   },
   "outputs": [
    {
     "name": "stdout",
     "output_type": "stream",
     "text": [
      "['img1.png', 'IMG01.GIF', 'img02.png', 'img2.JPG', 'img10.png', 'img12.png']\n"
     ]
    }
   ],
   "source": [
    "def solution(files):\n",
    "    answer = []\n",
    "    head, num, tail = '','',''\n",
    "    \n",
    "    for file in files:\n",
    "        for i in range(0, len(file)):\n",
    "            if file[i].isdigit(): #숫자가 나오면 이전은 head, 이후는 num임\n",
    "                head = file[:i]\n",
    "                num = file[i:]\n",
    "                for j in range(0, len(num)):\n",
    "                    if not num[j].isdigit(): # 숫자 안나오면 tail\n",
    "                        tail = num[j:] # num부터 끝까지\n",
    "                        num = num[:j]\n",
    "                        break\n",
    "                        \n",
    "                answer.append([head, num, tail]) # 리스트로 넣어버림\n",
    "                head, num, tail = '', '', ''\n",
    "                break\n",
    "                \n",
    "    answer = sorted(answer, key=lambda x:(x[0].lower(), int(x[1])))\n",
    "    \n",
    "    return [''.join(i) for i in answer] # 입력 형태로 반환\n",
    "\n",
    "print(solution( [\"img12.png\", \"img10.png\", \"img02.png\", \"img1.png\", \"IMG01.GIF\", \"img2.JPG\"]))"
   ]
  },
  {
   "cell_type": "markdown",
   "id": "b5efa31b",
   "metadata": {},
   "source": [
    "## 10. 같은 숫자는 싫어\n",
    "\n",
    "#### 문제 설명\n",
    "\n",
    "배열 arr가 주어집니다. 배열 arr의 각 원소는 숫자 0부터 9까지로 이루어져 있습니다. 이때, 배열 arr에서 연속적으로 나타나는 숫자는 하나만 남기고 전부 제거하려고 합니다. 단, 제거된 후 남은 수들을 반환할 때는 배열 arr의 원소들의 순서를 유지해야 합니다. 예를 들면,\n",
    "\n",
    "arr = [1, 1, 3, 3, 0, 1, 1] 이면 [1, 3, 0, 1] 을 return 합니다.\n",
    "arr = [4, 4, 4, 3, 3] 이면 [4, 3] 을 return 합니다.\n",
    "배열 arr에서 연속적으로 나타나는 숫자는 제거하고 남은 수들을 return 하는 solution 함수를 완성해 주세요.\n",
    "\n",
    "#### 제한사항\n",
    "\n",
    "배열 arr의 크기 : 1,000,000 이하의 자연수\n",
    "배열 arr의 원소의 크기 : 0보다 크거나 같고 9보다 작거나 같은 정수\n",
    "\n",
    "#### 입출력 예\n",
    "```\n",
    "arr\tanswer\n",
    "[1,1,3,3,0,1,1]\t[1,3,0,1]\n",
    "[4,4,4,3,3]\t[4,3]\n",
    "```"
   ]
  },
  {
   "cell_type": "code",
   "execution_count": 1,
   "id": "0639887e",
   "metadata": {},
   "outputs": [
    {
     "name": "stdout",
     "output_type": "stream",
     "text": [
      "[1, 3, 0, 1]\n"
     ]
    }
   ],
   "source": [
    "def solution(arr):\n",
    "    answer = [arr[0]]\n",
    "    for num in arr:\n",
    "        if num != answer[-1]:\n",
    "            answer.append(num)\n",
    "    return answer\n",
    "\n",
    "print(solution([1,1,3,3,0,1,1]))"
   ]
  },
  {
   "cell_type": "markdown",
   "id": "088c5f50",
   "metadata": {},
   "source": [
    "+ 연속되는 숫자가 연속되게 나와서 가능한 코드, 만약에 연속되는 숫자가 연속되게 나온게 아니라면 sort()? 해줬어야할듯"
   ]
  }
 ],
 "metadata": {
  "kernelspec": {
   "display_name": "Python 3",
   "language": "python",
   "name": "python3"
  },
  "language_info": {
   "codemirror_mode": {
    "name": "ipython",
    "version": 3
   },
   "file_extension": ".py",
   "mimetype": "text/x-python",
   "name": "python",
   "nbconvert_exporter": "python",
   "pygments_lexer": "ipython3",
   "version": "3.8.8"
  }
 },
 "nbformat": 4,
 "nbformat_minor": 5
}
