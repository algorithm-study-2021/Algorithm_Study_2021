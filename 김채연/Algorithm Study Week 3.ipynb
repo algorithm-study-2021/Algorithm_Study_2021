{
 "cells": [
  {
   "cell_type": "markdown",
   "id": "80a9a5e0",
   "metadata": {},
   "source": [
    "## 1. 이상한 문자 만들기\n",
    "\n",
    "#### 문제 설명\n",
    "\n",
    "문자열 s는 한 개 이상의 단어로 구성되어 있습니다. 각 단어는 하나 이상의 공백문자로 구분되어 있습니다. 각 단어의 짝수번째 알파벳은 대문자로, 홀수번째 알파벳은 소문자로 바꾼 문자열을 리턴하는 함수, solution을 완성하세요.\n",
    "\n",
    "#### 제한 사항\n",
    "\n",
    "문자열 전체의 짝/홀수 인덱스가 아니라, 단어(공백을 기준)별로 짝/홀수 인덱스를 판단해야합니다.\n",
    "첫 번째 글자는 0번째 인덱스로 보아 짝수번째 알파벳으로 처리해야 합니다.\n",
    "\n",
    "#### 입출력 예\n",
    "\n",
    "s\treturn\n",
    "\"try hello world\"\t\"TrY HeLlO WoRlD\"\n",
    "\n",
    "#### 입출력 예 설명\n",
    "\n",
    "\"try hello world\"는 세 단어 \"try\", \"hello\", \"world\"로 구성되어 있습니다. 각 단어의 짝수번째 문자를 대문자로, 홀수번째 문자를 소문자로 바꾸면 \"TrY\", \"HeLlO\", \"WoRlD\"입니다. 따라서 \"TrY HeLlO WoRlD\" 를 리턴합니다."
   ]
  },
  {
   "cell_type": "code",
   "execution_count": 33,
   "id": "3ad7ef41",
   "metadata": {},
   "outputs": [
    {
     "name": "stdout",
     "output_type": "stream",
     "text": [
      "['', 'try', 'hello', 'world']\n",
      "TrY HeLlO WoRlD\n"
     ]
    }
   ],
   "source": [
    "def solution(s):\n",
    "    answer = ''\n",
    "    s = s.split(' ')\n",
    "    print(s)\n",
    "    for i in range (len(s)):\n",
    "        for j in range(len(s[i])):\n",
    "            if (j % 2 == 0):\n",
    "                answer += s[i][j].upper()\n",
    "            else:\n",
    "                answer += s[i][j].lower()\n",
    "        answer += ' '\n",
    "    answer = answer[:-1]\n",
    "    return answer\n",
    "\n",
    "print(solution(\" try hello world\"))"
   ]
  },
  {
   "cell_type": "markdown",
   "id": "8b2e9703",
   "metadata": {},
   "source": [
    "슬라이싱: 연속적인 객체들(리스트, 튜플, 문자열)에 범위를 지정해 객체들을 가져오는 방법 및 표기법을 의미한다. 슬라이싱을 하면 새로운 객체를 생성하게 된다. 즉, 일부분을 복사해서 가져온다고 생각하면 된다.\n",
    "\n",
    "기본형태: a[start:end:step]\n",
    "+ 각각 start, end, step 모두 양수와 음수를 가질 수 있다.\n",
    "+ start: 슬라이싱을 시작할 시작위치\n",
    "+ end: 슬라이싱을 끝낼 위치로 end는 포함하지 않는다.\n",
    "+ step: 몇개씩 끊어올지와 방향을 정함\n",
    "\n"
   ]
  },
  {
   "cell_type": "markdown",
   "id": "e2ae4967",
   "metadata": {},
   "source": [
    "## 2. 약수의 합\n",
    "\n",
    "#### 문제 설명\n",
    "\n",
    "정수 n을 입력받아 n의 약수를 모두 더한 값을 리턴하는 함수, solution을 완성해주세요.\n",
    "\n",
    "#### 제한 사항\n",
    "\n",
    "n은 0 이상 3000이하인 정수입니다.\n",
    "\n",
    "#### 입출력 예\n",
    "\n",
    "n\treturn\n",
    "12\t28\n",
    "5\t6\n",
    "\n",
    "#### 입출력 예 설명\n",
    "입출력 예 #1\n",
    "12의 약수는 1, 2, 3, 4, 6, 12입니다. 이를 모두 더하면 28입니다.\n",
    "\n",
    "입출력 예 #2\n",
    "5의 약수는 1, 5입니다. 이를 모두 더하면 6입니다."
   ]
  },
  {
   "cell_type": "code",
   "execution_count": 35,
   "id": "089194b9",
   "metadata": {},
   "outputs": [
    {
     "name": "stdout",
     "output_type": "stream",
     "text": [
      "28\n",
      "6\n"
     ]
    }
   ],
   "source": [
    "def solution(n):\n",
    "    answer = 0\n",
    "    for i in range(1, n+1):\n",
    "        if n % i == 0:\n",
    "            answer += i\n",
    "    return answer\n",
    "print(solution(12))\n",
    "print(solution(5))"
   ]
  },
  {
   "cell_type": "markdown",
   "id": "6b21a2ff",
   "metadata": {},
   "source": [
    "## 3. 시저 암호\n",
    "\n",
    "#### 문제 설명\n",
    "\n",
    "어떤 문장의 각 알파벳을 일정한 거리만큼 밀어서 다른 알파벳으로 바꾸는 암호화 방식을 시저 암호라고 합니다. 예를 들어 \"AB\"는 1만큼 밀면 \"BC\"가 되고, 3만큼 밀면 \"DE\"가 됩니다. \"z\"는 1만큼 밀면 \"a\"가 됩니다. 문자열 s와 거리 n을 입력받아 s를 n만큼 민 암호문을 만드는 함수, solution을 완성해 보세요.\n",
    "\n",
    "#### 제한 조건\n",
    "\n",
    "공백은 아무리 밀어도 공백입니다.\n",
    "s는 알파벳 소문자, 대문자, 공백으로만 이루어져 있습니다.\n",
    "s의 길이는 8000이하입니다.\n",
    "n은 1 이상, 25이하인 자연수입니다.\n",
    "\n",
    "#### 입출력 예\n",
    "```\n",
    " s\t    n\tresult\n",
    "\"AB\"\t1\t\"BC\"\n",
    "\"z\"\t    1\t\"a\"\n",
    "\"a B z\"\t4\t\"e F d\"\n",
    "```"
   ]
  },
  {
   "cell_type": "code",
   "execution_count": 56,
   "id": "667cb4d7",
   "metadata": {},
   "outputs": [
    {
     "name": "stdout",
     "output_type": "stream",
     "text": [
      "EF\n"
     ]
    }
   ],
   "source": [
    "def solution(s, n):\n",
    "    \n",
    "    result = []\n",
    "    upper = \"ABCDEFGHIJKLMNOPQRSTUVWXYZ\"\n",
    "    lower = \"abcdefghijklmnopqrstuvwxyz\"\n",
    "\n",
    "    for i in s:\n",
    "        if i == \" \":\n",
    "            result.append(\" \")\n",
    "        elif i.isupper():\n",
    "            result.append(upper[(upper.find(i) + n) % 26])\n",
    "        else:\n",
    "            result.append(lower[(lower.find(i) + n) % 26])\n",
    "            \n",
    "    return \"\".join(result)\n",
    "\n",
    "print(solution(\"AB\", 4))"
   ]
  },
  {
   "cell_type": "markdown",
   "id": "ca54a918",
   "metadata": {},
   "source": [
    "## 4.문자열을 정수로 바꾸기\n",
    "\n",
    "#### 문제 설명\n",
    "\n",
    "문자열 s를 숫자로 변환한 결과를 반환하는 함수, solution을 완성하세요.\n",
    "\n",
    "#### 제한 조건\n",
    "\n",
    "s의 길이는 1 이상 5이하입니다.\n",
    "s의 맨앞에는 부호(+, -)가 올 수 있습니다.\n",
    "s는 부호와 숫자로만 이루어져있습니다.\n",
    "s는 \"0\"으로 시작하지 않습니다.\n",
    "\n",
    "#### 입출력 예\n",
    "\n",
    "예를들어 str이 \"1234\"이면 1234를 반환하고, \"-1234\"이면 -1234를 반환하면 됩니다.\n",
    "str은 부호(+,-)와 숫자로만 구성되어 있고, 잘못된 값이 입력되는 경우는 없습니다."
   ]
  },
  {
   "cell_type": "code",
   "execution_count": 67,
   "id": "4f1031bf",
   "metadata": {},
   "outputs": [
    {
     "name": "stdout",
     "output_type": "stream",
     "text": [
      "-123\n"
     ]
    }
   ],
   "source": [
    "def solution(s):\n",
    "    s = int(s)\n",
    "    return s\n",
    "\n",
    "print(solution(\"-123\"))"
   ]
  },
  {
   "cell_type": "markdown",
   "id": "d0d1ceac",
   "metadata": {},
   "source": [
    "## 5. 숫자의 표현\n",
    "\n",
    "#### 문제 설명\n",
    "\n",
    "Finn은 요즘 수학공부에 빠져 있습니다. 수학 공부를 하던 Finn은 자연수 n을 연속한 자연수들로 표현 하는 방법이 여러개라는 사실을 알게 되었습니다. 예를들어 15는 다음과 같이 4가지로 표현 할 수 있습니다.\n",
    "\n",
    "1 + 2 + 3 + 4 + 5 = 15\n",
    "4 + 5 + 6 = 15\n",
    "7 + 8 = 15\n",
    "15 = 15\n",
    "자연수 n이 매개변수로 주어질 때, 연속된 자연수들로 n을 표현하는 방법의 수를 return하는 solution를 완성해주세요.\n",
    "\n",
    "#### 제한사항\n",
    "\n",
    "n은 10,000 이하의 자연수 입니다.\n",
    "\n",
    "#### 입출력 예\n",
    "```\n",
    "n\tresult\n",
    "15\t4\n",
    "```\n",
    "\n",
    "#### 입출력 예 설명\n",
    "\n",
    "입출력 예#1\n",
    "문제의 예시와 같습니다."
   ]
  },
  {
   "cell_type": "code",
   "execution_count": 22,
   "id": "1acc23fb",
   "metadata": {},
   "outputs": [
    {
     "name": "stdout",
     "output_type": "stream",
     "text": [
      "4\n"
     ]
    }
   ],
   "source": [
    "def solution(n):\n",
    "    answer = 0\n",
    "    for i in range (1, n+1):\n",
    "        tmp = 0\n",
    "        for j in range(i, n+1):\n",
    "            tmp += j\n",
    "            if tmp == n:\n",
    "                answer += 1\n",
    "                break;\n",
    "            elif tmp > n:\n",
    "                break;\n",
    "    return answer\n",
    "print(solution(15))"
   ]
  },
  {
   "cell_type": "markdown",
   "id": "aefb6fb3",
   "metadata": {},
   "source": [
    "## 6. 수박수박수박수박수박수?\n",
    "\n",
    "#### 문제 설명\n",
    "\n",
    "길이가 n이고, \"수박수박수박수....\"와 같은 패턴을 유지하는 문자열을 리턴하는 함수, solution을 완성하세요. 예를들어 n이 4이면 \"수박수박\"을 리턴하고 3이라면 \"수박수\"를 리턴하면 됩니다.\n",
    "\n",
    "#### 제한 조건\n",
    "\n",
    "n은 길이 10,000이하인 자연수입니다.\n",
    "\n",
    "#### 입출력 예\n",
    "```\n",
    "n\treturn\n",
    "3\t\"수박수\"\n",
    "4\t\"수박수박\"\n",
    "```"
   ]
  },
  {
   "cell_type": "code",
   "execution_count": 72,
   "id": "ed6dae26",
   "metadata": {},
   "outputs": [
    {
     "name": "stdout",
     "output_type": "stream",
     "text": [
      "수박수박\n"
     ]
    }
   ],
   "source": [
    "def solution(n):\n",
    "    su = '수'\n",
    "    bak = '박'\n",
    "    ans =''\n",
    "\n",
    "    for i in range(0, n):\n",
    "        if i % 2 == 0:\n",
    "            ans += su\n",
    "        else:\n",
    "            ans += bak\n",
    "    return ans\n",
    "\n",
    "print(solution(4))"
   ]
  },
  {
   "cell_type": "markdown",
   "id": "01f059cc",
   "metadata": {},
   "source": [
    "## 7. 소수 찾기\n",
    "\n",
    "#### 문제 설명\n",
    "\n",
    "1부터 입력받은 숫자 n 사이에 있는 소수의 개수를 반환하는 함수, solution을 만들어 보세요.\n",
    "\n",
    "소수는 1과 자기 자신으로만 나누어지는 수를 의미합니다.\n",
    "(1은 소수가 아닙니다.)\n",
    "\n",
    "#### 제한 조건\n",
    "\n",
    "n은 2이상 1000000이하의 자연수입니다.\n",
    "\n",
    "#### 입출력 예\n",
    "```\n",
    "n\tresult\n",
    "10\t4\n",
    "5\t3\n",
    "```\n",
    "#### 입출력 예 설명\n",
    "\n",
    "입출력 예 #1\n",
    "1부터 10 사이의 소수는 [2,3,5,7] 4개가 존재하므로 4를 반환\n",
    "\n",
    "입출력 예 #2\n",
    "1부터 5 사이의 소수는 [2,3,5] 3개가 존재하므로 3를 반환"
   ]
  },
  {
   "cell_type": "code",
   "execution_count": 5,
   "id": "9b9d2f39",
   "metadata": {},
   "outputs": [
    {
     "name": "stdout",
     "output_type": "stream",
     "text": [
      "3\n"
     ]
    }
   ],
   "source": [
    "def solution(n):\n",
    "    a = [False,False] + [True]*(n-1) # 2부터 시작\n",
    "    primes=[]\n",
    "    for i in range(2,n+1): # 2, 3, 4, 5\n",
    "        if a[i]:\n",
    "            primes.append(i)\n",
    "            for j in range(2*i, n+1, i): # i의 다음 배수부터 i만큼의 모든 수를 걸러냄, 에라토스테네스의 체\n",
    "                a[j] = False # false로 바꿔서 if문을 만족시키지 못하게 함\n",
    "    answer = len(primes)\n",
    "    return answer\n",
    "\n",
    "print(solution(5))"
   ]
  },
  {
   "cell_type": "markdown",
   "id": "bfd05864",
   "metadata": {},
   "source": [
    "+ n+1의 리스트를 만든다. 0과 1은 소수가 아니므로 false로 설정한다.\n",
    "\n",
    "+ 2 부터 n까지 반복문에서 리스트의 값이 true이면 if문을 만족하게 하여 primes에 값을 추가한다.\n",
    "\n",
    "+ 해당 수(i)의 배수 (2*i)부터 n까지의 i만큼(i의 배수)를 false 처리하여 걸러낸다.\n",
    "\n",
    "+ primes을 반환한다.\n",
    "\n",
    "[참고]\n",
    "https://wikidocs.net/21638"
   ]
  },
  {
   "cell_type": "markdown",
   "id": "591b81b8",
   "metadata": {},
   "source": [
    "## 8. 서울에서 김서방 찾기\n",
    "\n",
    "#### 문제 설명\n",
    "\n",
    "String형 배열 seoul의 element중 \"Kim\"의 위치 x를 찾아, \"김서방은 x에 있다\"는 String을 반환하는 함수, solution을 완성하세요. seoul에 \"Kim\"은 오직 한 번만 나타나며 잘못된 값이 입력되는 경우는 없습니다.\n",
    "\n",
    "#### 제한 사항\n",
    "\n",
    "seoul은 길이 1 이상, 1000 이하인 배열입니다.\n",
    "seoul의 원소는 길이 1 이상, 20 이하인 문자열입니다.\n",
    "\"Kim\"은 반드시 seoul 안에 포함되어 있습니다.\n",
    "\n",
    "#### 입출력 예\n",
    "```\n",
    "seoul\treturn\n",
    "[\"Jane\", \"Kim\"]\t\"김서방은 1에 있다\"\n",
    "```"
   ]
  },
  {
   "cell_type": "code",
   "execution_count": 5,
   "id": "716e26c6",
   "metadata": {},
   "outputs": [
    {
     "name": "stdout",
     "output_type": "stream",
     "text": [
      "김서방은 1에 있다\n"
     ]
    }
   ],
   "source": [
    "def solution(seoul):\n",
    "    for i in range (0, len(seoul)):\n",
    "        if seoul[i]== \"Kim\":\n",
    "            kim = i\n",
    "    answer = ''\n",
    "    answer += '김서방은 '+str(kim)+'에 있다'\n",
    "    return answer\n",
    "\n",
    "print(solution([\"Jane\", \"Kim\"]))"
   ]
  },
  {
   "cell_type": "markdown",
   "id": "5dd3bd48",
   "metadata": {},
   "source": [
    "+ return \"김서방은 {}에 있다\".format(seoul.index('Kim'))"
   ]
  },
  {
   "cell_type": "markdown",
   "id": "c7d529de",
   "metadata": {},
   "source": [
    "## 9. 문자열 다루기 기본\n",
    "\n",
    "#### 문제 설명\n",
    "\n",
    "문자열 s의 길이가 4 혹은 6이고, 숫자로만 구성돼있는지 확인해주는 함수, solution을 완성하세요. 예를 들어 s가 \"a234\"이면 False를 리턴하고 \"1234\"라면 True를 리턴하면 됩니다.\n",
    "\n",
    "#### 제한 사항\n",
    "\n",
    "s는 길이 1 이상, 길이 8 이하인 문자열입니다.\n",
    "\n",
    "#### 입출력 예\n",
    "```\n",
    "s\treturn\n",
    "\"a234\"\tfalse\n",
    "\"1234\"\ttrue\n",
    "```"
   ]
  },
  {
   "cell_type": "code",
   "execution_count": 21,
   "id": "ca757b33",
   "metadata": {},
   "outputs": [
    {
     "name": "stdout",
     "output_type": "stream",
     "text": [
      "True\n"
     ]
    }
   ],
   "source": [
    "def solution(s):\n",
    "    for i in range(0,len(s)):\n",
    "        if (len(s) == 4 or 6):\n",
    "            if s[i].isalpha() == True:\n",
    "                answer = False\n",
    "                break;\n",
    "            else:\n",
    "                answer = True\n",
    "        else:\n",
    "            answer = False\n",
    "    return answer\n",
    "\n",
    "print(solution(\"1234\"))"
   ]
  },
  {
   "cell_type": "markdown",
   "id": "13b00808",
   "metadata": {},
   "source": [
    "```\n",
    "def alpha_string46(s):\n",
    "    return s.isdigit() and len(s) in (4, 6)\n",
    "```"
   ]
  },
  {
   "cell_type": "markdown",
   "id": "23d4328d",
   "metadata": {},
   "source": [
    "## 10. 문자열 내림차순으로 배치하기\n",
    "\n",
    "#### 문제 설명\n",
    "\n",
    "문자열 s에 나타나는 문자를 큰것부터 작은 순으로 정렬해 새로운 문자열을 리턴하는 함수, solution을 완성해주세요.\n",
    "s는 영문 대소문자로만 구성되어 있으며, 대문자는 소문자보다 작은 것으로 간주합니다.\n",
    "\n",
    "#### 제한 사항\n",
    "\n",
    "str은 길이 1 이상인 문자열입니다.\n",
    "\n",
    "### 입출력 예\n",
    "```\n",
    "s\treturn\n",
    "\"Zbcdefg\"\t\"gfedcbZ\"\n",
    "```"
   ]
  },
  {
   "cell_type": "code",
   "execution_count": 28,
   "id": "84d23fe8",
   "metadata": {},
   "outputs": [
    {
     "name": "stdout",
     "output_type": "stream",
     "text": [
      "cbA\n"
     ]
    }
   ],
   "source": []
  },
  {
   "cell_type": "code",
   "execution_count": null,
   "id": "cf4704b3",
   "metadata": {},
   "outputs": [],
   "source": []
  }
 ],
 "metadata": {
  "kernelspec": {
   "display_name": "Python 3",
   "language": "python",
   "name": "python3"
  },
  "language_info": {
   "codemirror_mode": {
    "name": "ipython",
    "version": 3
   },
   "file_extension": ".py",
   "mimetype": "text/x-python",
   "name": "python",
   "nbconvert_exporter": "python",
   "pygments_lexer": "ipython3",
   "version": "3.8.8"
  }
 },
 "nbformat": 4,
 "nbformat_minor": 5
}
