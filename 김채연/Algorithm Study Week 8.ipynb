{
 "cells": [
  {
   "cell_type": "markdown",
   "id": "f7f0a039",
   "metadata": {},
   "source": [
    "## 1. 최소직사각형 (위클리 챌린지)\n",
    "\n",
    "문제 URL: <https://programmers.co.kr/learn/courses/30/lessons/86491>"
   ]
  },
  {
   "cell_type": "code",
   "execution_count": 1,
   "id": "8f3f1bec",
   "metadata": {},
   "outputs": [
    {
     "name": "stdout",
     "output_type": "stream",
     "text": [
      "4000\n"
     ]
    }
   ],
   "source": [
    "def solution(sizes):\n",
    "    max_w, max_h = 0, 0\n",
    "    for wid, hgt in sizes:\n",
    "        if wid < hgt:\n",
    "            wid, hgt = hgt, wid # 무조건 가로가 길게 바꿈\n",
    "        max_w = max(max_w, wid)\n",
    "        max_h = max(max_h, hgt)\n",
    "    return max_w * max_h # 최대값끼리 곱해서 넓이 구하면 모든 명함 만족\n",
    "\n",
    "print(solution([[60, 50], [30, 70], [60, 30], [80, 40]]))"
   ]
  },
  {
   "cell_type": "markdown",
   "id": "4b53ab1e",
   "metadata": {},
   "source": [
    "## 2. 전력망을 둘로 나누기 (위클리 챌린지)\n",
    "문제 URL: <https://programmers.co.kr/learn/courses/30/lessons/86971>"
   ]
  },
  {
   "cell_type": "code",
   "execution_count": null,
   "id": "b53304f1",
   "metadata": {},
   "outputs": [],
   "source": [
    "# 내 코드 아님\n",
    "# 노드 간 선을 하나씩 잘라보고 확인\n",
    "from collections import defaultdict, deque\n",
    "def solution(n, wires):\n",
    "    answer = float('inf')\n",
    "    mdict = defaultdict(list)       \n",
    "    for s, e in wires:              # Tree형태 저장\n",
    "        mdict[s].append(e)\n",
    "        mdict[e].append(s)\n",
    "    for s, e in wires:              # 끊어지는 선\n",
    "        queue = deque([1])\n",
    "        visit = set()\n",
    "        while queue:                # 1번 노드부터 BFS탐색\n",
    "            curr = queue.popleft()\n",
    "            if curr in visit:\n",
    "                continue\n",
    "            else:\n",
    "                visit.add(curr)\n",
    "            for node in mdict[curr]:\n",
    "                if (curr == s and node == e) or (curr == e and node == s):\n",
    "                    continue\n",
    "                queue.append(node)\n",
    "        diff = abs(n - (len(visit) * 2))\n",
    "        answer = min(diff, answer)\n",
    "    return answer\n",
    "# Union Find 알고리즘 공부해보자  . . "
   ]
  },
  {
   "cell_type": "markdown",
   "id": "6dff18d0",
   "metadata": {},
   "source": [
    "## 3. 교점에 별 만들기 (위클리 챌리지)\n",
    "\n",
    "문제 URL: <https://programmers.co.kr/learn/courses/30/lessons/87377>"
   ]
  },
  {
   "cell_type": "code",
   "execution_count": 1,
   "id": "541d2383",
   "metadata": {},
   "outputs": [],
   "source": [
    "# 내 코드 아님 . . 문제 잘 모르겠어서 공부 더 해야될 것 같아요 ㅠ\n",
    "\n",
    "def isParallel(line1, line2): # 평행 여부\n",
    "    if (line1[0] * line2[1] - line1[1] * line2[0]) == 0:\n",
    "        return True\n",
    "    else:\n",
    "        return False\n",
    "\n",
    "\n",
    "def returnXY(line1, line2): # 교점 구하는 수학 공식 이용\n",
    "    X = (line1[1] * line2[2] - line1[2] * line2[1]) / (line1[0] * line2[1] - line1[1] * line2[0])\n",
    "    Y = (line1[2] * line2[0] - line1[0] * line2[2]) / (line1[0] * line2[1] - line1[1] * line2[0])\n",
    "    return [X, Y]\n",
    "\n",
    "\n",
    "def solution(line): # 범위가 2000인 이유는 1000*1000이라 상하, 좌우 최대 2000\n",
    "    tmp_answer = [[\".\" for y in range(2001)] for x in range(2001)]\n",
    "    up, down, left, right = 0, 2000, 2000, 0\n",
    "    first = False\n",
    "    X_, y_ = 0, 0\n",
    "    \n",
    "    for i in range(len(line)):\n",
    "        for j in range(i + 1, len(line)):\n",
    "            if isParallel(line[i], line[j]) == False:\n",
    "                X, Y = returnXY(line[i], line[j])\n",
    "                \n",
    "                if X == int(X) and Y == int(Y):\n",
    "                    if first == False:\n",
    "                        first = True\n",
    "                        X_, Y_ = int(X) , int(Y)\n",
    "                    \n",
    "                    X, Y = int(X) - X_, int(Y) - Y_\n",
    "                    \n",
    "                    tmp_answer[X][Y] = \"*\"\n",
    "\n",
    "                    if Y > up:\n",
    "                        up = Y\n",
    "                    if Y < down:\n",
    "                        down = Y\n",
    "                    if X > right:\n",
    "                        right = X\n",
    "                    if X < left:\n",
    "                        left = X\n",
    "\n",
    "    answer = []\n",
    "    for y in range(up, down-1, -1):\n",
    "        tmp = \"\"\n",
    "        for x in range(left, right + 1):\n",
    "            if tmp_answer[x][y] == \"*\":\n",
    "                tmp += \"*\"\n",
    "            else:\n",
    "                tmp += \".\"\n",
    "\n",
    "        answer.append(tmp)\n",
    "\n",
    "    return answer"
   ]
  },
  {
   "cell_type": "markdown",
   "id": "6ea65a42",
   "metadata": {},
   "source": [
    "## 4. 구명보트 (탐욕법(Greedy))\n",
    "\n",
    "문제 URL: <https://programmers.co.kr/learn/courses/30/lessons/42885>"
   ]
  },
  {
   "cell_type": "code",
   "execution_count": 3,
   "id": "6b9f6281",
   "metadata": {},
   "outputs": [
    {
     "name": "stdout",
     "output_type": "stream",
     "text": [
      "3\n"
     ]
    }
   ],
   "source": [
    "def solution(p, limit):\n",
    "    count = 0;\n",
    "    p.sort() # 사람들을 정렬\n",
    "    i = 0; j = len(p)-1\n",
    "    while i<=j: # = 넣어야 햇음..\n",
    "        count+=1\n",
    "        if p[j]+p[i]<=limit: # 몸무게가 가장 큰 사람과 작은 사람을 더해 limit와 비교\n",
    "            i+=1 # 작으면 둘 다 태움\n",
    "        j-=1 # 큰 사람만 태움\n",
    "    return count\n",
    "print(solution([70, 50, 80, 50], 100))"
   ]
  },
  {
   "cell_type": "markdown",
   "id": "d3573cc7",
   "metadata": {},
   "source": [
    "## 5. 주식 가격 (스택/큐)\n",
    "\n",
    "문제 URL: <https://programmers.co.kr/learn/courses/30/lessons/42584>"
   ]
  },
  {
   "cell_type": "code",
   "execution_count": 5,
   "id": "ffee1999",
   "metadata": {},
   "outputs": [
    {
     "name": "stdout",
     "output_type": "stream",
     "text": [
      "[4, 3, 1, 1, 0]\n"
     ]
    }
   ],
   "source": [
    "from collections import deque\n",
    "\n",
    "def solution(prices):\n",
    "    queue = deque(prices) # prices로 queue 초기화\n",
    "    answer = []\n",
    "    \n",
    "    while queue:\n",
    "        price = queue.popleft() # 앞부터 하나씩 popleft(),, pop()써도 되는 것 같다.\n",
    "        sec = 0\n",
    "        for q in queue: # 남은 queue를 돌며 값이 작아지기 전까지 sec증가\n",
    "            sec += 1\n",
    "            if price > q:\n",
    "                break \n",
    "        answer.append(sec)        \n",
    "    return answer\n",
    "print(solution([1, 2, 3, 2, 3]))"
   ]
  },
  {
   "cell_type": "code",
   "execution_count": null,
   "id": "1762d0a5",
   "metadata": {},
   "outputs": [],
   "source": []
  }
 ],
 "metadata": {
  "kernelspec": {
   "display_name": "Python 3",
   "language": "python",
   "name": "python3"
  },
  "language_info": {
   "codemirror_mode": {
    "name": "ipython",
    "version": 3
   },
   "file_extension": ".py",
   "mimetype": "text/x-python",
   "name": "python",
   "nbconvert_exporter": "python",
   "pygments_lexer": "ipython3",
   "version": "3.8.8"
  }
 },
 "nbformat": 4,
 "nbformat_minor": 5
}
