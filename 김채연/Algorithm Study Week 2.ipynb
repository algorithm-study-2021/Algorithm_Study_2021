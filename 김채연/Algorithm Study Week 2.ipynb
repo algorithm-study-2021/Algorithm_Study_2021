{
 "cells": [
  {
   "cell_type": "markdown",
   "metadata": {},
   "source": [
    "## 1. 콜라츠 추측\n",
    "\n",
    "#### 문제 설명\n",
    "\n",
    "1937년 Collatz란 사람에 의해 제기된 이 추측은, 주어진 수가 1이 될때까지 다음 작업을 반복하면, 모든 수를 1로 만들 수 있다는 추측입니다. 작업은 다음과 같습니다.\n",
    "\n",
    "1-1. 입력된 수가 짝수라면 2로 나눕니다. \n",
    "1-2. 입력된 수가 홀수라면 3을 곱하고 1을 더합니다.\n",
    "2. 결과로 나온 수에 같은 작업을 1이 될 때까지 반복합니다.\n",
    "예를 들어, 입력된 수가 6이라면 6→3→10→5→16→8→4→2→1 이 되어 총 8번 만에 1이 됩니다. 위 작업을 몇 번이나 반복해야하는지 반환하는 함수, solution을 완성해 주세요. 단, 작업을 500번을 반복해도 1이 되지 않는다면 –1을 반환해 주세요.\n",
    "\n",
    "#### 제한 사항\n",
    "\n",
    "입력된 수, num은 1 이상 8000000 미만인 정수입니다.\n",
    "\n",
    "#### 입출력 예\n",
    "\n",
    "```\n",
    "n\tresult\n",
    "6\t8\n",
    "16\t4\n",
    "626331\t-1\n",
    "```\n",
    "\n",
    "#### 입출력 예 설명\n",
    "\n",
    "입출력 예 #1\n",
    "문제의 설명과 같습니다.\n",
    "\n",
    "입출력 예 #2\n",
    "16 -> 8 -> 4 -> 2 -> 1 이되어 총 4번만에 1이 됩니다.\n",
    "\n",
    "입출력 예 #3\n",
    "626331은 500번을 시도해도 1이 되지 못하므로 -1을 리턴해야합니다."
   ]
  },
  {
   "cell_type": "code",
   "execution_count": 17,
   "metadata": {},
   "outputs": [
    {
     "name": "stdout",
     "output_type": "stream",
     "text": [
      "8\n"
     ]
    }
   ],
   "source": [
    "def solution(num):\n",
    "    answer = 0\n",
    "    while(num != 1):\n",
    "        num = num // 2 if (num % 2 == 0) else num * 3 + 1\n",
    "        answer += 1\n",
    "    return answer if (answer < 500) else -1\n",
    "\n",
    "print(solution(6))"
   ]
  },
  {
   "cell_type": "markdown",
   "metadata": {},
   "source": [
    "+ 코드를 짧게 만들고 싶어서 if-else를 한줄에 처리하는 방법은 없을까하고 생각해 최대한 간결하게 작성하도록 노력했다."
   ]
  },
  {
   "cell_type": "markdown",
   "metadata": {},
   "source": [
    "## 2. 최솟값 만들기\n",
    "\n",
    "#### 문제 설명\n",
    "\n",
    "길이가 같은 배열 A, B 두개가 있습니다. 각 배열은 자연수로 이루어져 있습니다.\n",
    "배열 A, B에서 각각 한 개의 숫자를 뽑아 두 수를 곱합니다. 이러한 과정을 배열의 길이만큼 반복하며, 두 수를 곱한 값을 누적하여 더합니다. 이때 최종적으로 누적된 값이 최소가 되도록 만드는 것이 목표입니다. (단, 각 배열에서 k번째 숫자를 뽑았다면 다음에 k번째 숫자는 다시 뽑을 수 없습니다.)\n",
    "\n",
    "예를 들어 A = [1, 4, 2] , B = [5, 4, 4] 라면\n",
    "\n",
    "A에서 첫번째 숫자인 1, B에서 첫번째 숫자인 5를 뽑아 곱하여 더합니다. (누적된 값 : 0 + 5(1x5) = 5)\n",
    "A에서 두번째 숫자인 4, B에서 세번째 숫자인 4를 뽑아 곱하여 더합니다. (누적된 값 : 5 + 16(4x4) = 21)\n",
    "A에서 세번째 숫자인 2, B에서 두번째 숫자인 4를 뽑아 곱하여 더합니다. (누적된 값 : 21 + 8(2x4) = 29)\n",
    "즉, 이 경우가 최소가 되므로 29를 return 합니다.\n",
    "\n",
    "배열 A, B가 주어질 때 최종적으로 누적된 최솟값을 return 하는 solution 함수를 완성해 주세요.\n",
    "\n",
    "#### 제한사항\n",
    "\n",
    "배열 A, B의 크기 : 1,000 이하의 자연수\n",
    "배열 A, B의 원소의 크기 : 1,000 이하의 자연수\n",
    "\n",
    "#### 입출력 예\n",
    "\n",
    "```\n",
    "A\t         B\t        answer\n",
    "[1, 4, 2]\t[5, 4, 4]\t29\n",
    "[1,2]\t    [3,4]\t    10\n",
    "```\n",
    "\n",
    "#### 입출력 예 설명\n",
    "\n",
    "입출력 예 #1\n",
    "문제의 예시와 같습니다.\n",
    "\n",
    "입출력 예 #2\n",
    "A에서 첫번째 숫자인 1, B에서 두번째 숫자인 4를 뽑아 곱하여 더합니다. (누적된 값 : 4) 다음, A에서 두번째 숫자인 2, B에서 첫번째 숫자인 3을 뽑아 곱하여 더합니다. (누적된 값 : 4 + 6 = 10)\n",
    "이 경우가 최소이므로 10을 return 합니다."
   ]
  },
  {
   "cell_type": "code",
   "execution_count": 22,
   "metadata": {},
   "outputs": [
    {
     "name": "stdout",
     "output_type": "stream",
     "text": [
      "29\n"
     ]
    }
   ],
   "source": [
    "def solution(A,B):\n",
    "    answer = 0\n",
    "    A = sorted(A)\n",
    "    B = sorted(B)\n",
    "    B = list(reversed(B))\n",
    "    \n",
    "    for i in range(len(A)):\n",
    "        answer += A[i]*B[i]\n",
    "    return answer\n",
    "\n",
    "A = [1,4,2]\n",
    "B = [5,4,4]\n",
    "print(solution(A,B))"
   ]
  },
  {
   "cell_type": "markdown",
   "metadata": {},
   "source": [
    "+ 배열 하나는 정렬, 배열 하나는 역으로 정렬하여 어짜피 길이가 같으니까 같은 위치에 있는 요소끼리 곱하면 누적 값이 최소가 될 것이라고 생각하였다."
   ]
  },
  {
   "cell_type": "code",
   "execution_count": null,
   "metadata": {},
   "outputs": [],
   "source": []
  }
 ],
 "metadata": {
  "kernelspec": {
   "display_name": "Python 3",
   "language": "python",
   "name": "python3"
  },
  "language_info": {
   "codemirror_mode": {
    "name": "ipython",
    "version": 3
   },
   "file_extension": ".py",
   "mimetype": "text/x-python",
   "name": "python",
   "nbconvert_exporter": "python",
   "pygments_lexer": "ipython3",
   "version": "3.8.3"
  }
 },
 "nbformat": 4,
 "nbformat_minor": 4
}
