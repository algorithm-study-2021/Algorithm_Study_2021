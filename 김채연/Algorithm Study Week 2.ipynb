{
 "cells": [
  {
   "cell_type": "markdown",
   "id": "f1cc61df",
   "metadata": {},
   "source": [
    "## 1.콜라츠 추측\n",
    "\n",
    "#### 문제 설명\n",
    "\n",
    "1937년 Collatz란 사람에 의해 제기된 이 추측은, 주어진 수가 1이 될때까지 다음 작업을 반복하면, 모든 수를 1로 만들 수 있다는 추측입니다. 작업은 다음과 같습니다.\n",
    "\n",
    "1-1. 입력된 수가 짝수라면 2로 나눕니다. \n",
    "1-2. 입력된 수가 홀수라면 3을 곱하고 1을 더합니다.\n",
    "2. 결과로 나온 수에 같은 작업을 1이 될 때까지 반복합니다.\n",
    "예를 들어, 입력된 수가 6이라면 6→3→10→5→16→8→4→2→1 이 되어 총 8번 만에 1이 됩니다. 위 작업을 몇 번이나 반복해야하는지 반환하는 함수, solution을 완성해 주세요. 단, 작업을 500번을 반복해도 1이 되지 않는다면 –1을 반환해 주세요.\n",
    "\n",
    "#### 제한 사항\n",
    "\n",
    "입력된 수, num은 1 이상 8000000 미만인 정수입니다.\n",
    "\n",
    "#### 입출력 예\n",
    "\n",
    "```\n",
    "n\tresult\n",
    "6\t8\n",
    "16\t4\n",
    "626331\t-1\n",
    "```\n",
    "#### 입출력 예 설명\n",
    "\n",
    "입출력 예 #1\n",
    "문제의 설명과 같습니다.\n",
    "\n",
    "입출력 예 #2\n",
    "16 -> 8 -> 4 -> 2 -> 1 이되어 총 4번만에 1이 됩니다.\n",
    "\n",
    "입출력 예 #3\n",
    "626331은 500번을 시도해도 1이 되지 못하므로 -1을 리턴해야합니다."
   ]
  },
  {
   "cell_type": "code",
   "execution_count": 1,
   "id": "db1e817c",
   "metadata": {},
   "outputs": [
    {
     "name": "stdout",
     "output_type": "stream",
     "text": [
      "8\n"
     ]
    }
   ],
   "source": [
    "def solution(num):\n",
    "    answer = 0\n",
    "    while(num != 1):\n",
    "        num = num // 2 if (num % 2 == 0) else num * 3 + 1\n",
    "        answer += 1\n",
    "    return answer if (answer < 500) else -1\n",
    "\n",
    "print(solution(6))"
   ]
  },
  {
   "cell_type": "markdown",
   "id": "53e3890a",
   "metadata": {},
   "source": [
    "+ 코드를 더 간결하게 하고 싶어서 if-else 구문을 한 줄에 처리하는 방법을 배웠다."
   ]
  },
  {
   "cell_type": "markdown",
   "id": "4326775b",
   "metadata": {},
   "source": [
    "## 2. 최솟값 만들기\n",
    "\n",
    "#### 문제 설명\n",
    "\n",
    "길이가 같은 배열 A, B 두개가 있습니다. 각 배열은 자연수로 이루어져 있습니다.\n",
    "배열 A, B에서 각각 한 개의 숫자를 뽑아 두 수를 곱합니다. 이러한 과정을 배열의 길이만큼 반복하며, 두 수를 곱한 값을 누적하여 더합니다. 이때 최종적으로 누적된 값이 최소가 되도록 만드는 것이 목표입니다. (단, 각 배열에서 k번째 숫자를 뽑았다면 다음에 k번째 숫자는 다시 뽑을 수 없습니다.)\n",
    "\n",
    "예를 들어 A = [1, 4, 2] , B = [5, 4, 4] 라면\n",
    "\n",
    "A에서 첫번째 숫자인 1, B에서 첫번째 숫자인 5를 뽑아 곱하여 더합니다. (누적된 값 : 0 + 5(1x5) = 5)\n",
    "A에서 두번째 숫자인 4, B에서 세번째 숫자인 4를 뽑아 곱하여 더합니다. (누적된 값 : 5 + 16(4x4) = 21)\n",
    "A에서 세번째 숫자인 2, B에서 두번째 숫자인 4를 뽑아 곱하여 더합니다. (누적된 값 : 21 + 8(2x4) = 29)\n",
    "즉, 이 경우가 최소가 되므로 29를 return 합니다.\n",
    "\n",
    "배열 A, B가 주어질 때 최종적으로 누적된 최솟값을 return 하는 solution 함수를 완성해 주세요.\n",
    "\n",
    "#### 제한사항\n",
    "\n",
    "배열 A, B의 크기 : 1,000 이하의 자연수\n",
    "배열 A, B의 원소의 크기 : 1,000 이하의 자연수\n",
    "\n",
    "#### 입출력 예\n",
    "\n",
    "```\n",
    "A\t         B\t        answer\n",
    "[1, 4, 2]\t[5, 4, 4]\t29\n",
    "[1,2]\t    [3,4]\t    10\n",
    "```\n",
    "\n",
    "#### 입출력 예 설명\n",
    "\n",
    "입출력 예 #1\n",
    "문제의 예시와 같습니다.\n",
    "\n",
    "입출력 예 #2\n",
    "A에서 첫번째 숫자인 1, B에서 두번째 숫자인 4를 뽑아 곱하여 더합니다. (누적된 값 : 4) 다음, A에서 두번째 숫자인 2, B에서 첫번째 숫자인 3을 뽑아 곱하여 더합니다. (누적된 값 : 4 + 6 = 10)\n",
    "이 경우가 최소이므로 10을 return 합니다."
   ]
  },
  {
   "cell_type": "code",
   "execution_count": 2,
   "id": "e4e0545c",
   "metadata": {},
   "outputs": [
    {
     "name": "stdout",
     "output_type": "stream",
     "text": [
      "29\n"
     ]
    }
   ],
   "source": [
    "def solution(A,B):\n",
    "    answer = 0\n",
    "    A = sorted(A)\n",
    "    B = sorted(B)\n",
    "    B = list(reversed(B))\n",
    "    \n",
    "    for i in range(len(A)):\n",
    "        answer += A[i]*B[i]\n",
    "    return answer\n",
    "A = [1,4,2]\n",
    "B = [5,4,4]\n",
    "print(solution(A, B))"
   ]
  },
  {
   "cell_type": "markdown",
   "id": "495e49ba",
   "metadata": {},
   "source": [
    "+ 배열 하나는 오름차순으로 정렬하고 나머지 배열 하나는 내림차순으로 정렬하여 어짜피 길이는 같으니까 같은 위치에 있는 요소값을 곱하면 최소값이 나올 것이라고 생각했다."
   ]
  },
  {
   "cell_type": "markdown",
   "id": "984b50e9",
   "metadata": {},
   "source": [
    "## 3. 최대공약수와 최소공배수\n",
    "\n",
    "#### 문제 설명\n",
    "\n",
    "두 수를 입력받아 두 수의 최대공약수와 최소공배수를 반환하는 함수, solution을 완성해 보세요. 배열의 맨 앞에 최대공약수, 그다음 최소공배수를 넣어 반환하면 됩니다. 예를 들어 두 수 3, 12의 최대공약수는 3, 최소공배수는 12이므로 solution(3, 12)는 [3, 12]를 반환해야 합니다.\n",
    "\n",
    "#### 제한 사항\n",
    "\n",
    "두 수는 1이상 1000000이하의 자연수입니다.\n",
    "\n",
    "#### 입출력 예\n",
    "\n",
    "```\n",
    "n\tm\treturn\n",
    "3\t12\t[3, 12]\n",
    "2\t5\t[1, 10]\n",
    "```\n",
    "#### 입출력 예 설명\n",
    "\n",
    "입출력 예 #1\n",
    "위의 설명과 같습니다.\n",
    "\n",
    "입출력 예 #2\n",
    "자연수 2와 5의 최대공약수는 1, 최소공배수는 10이므로 [1, 10]을 리턴해야 합니다."
   ]
  },
  {
   "cell_type": "code",
   "execution_count": 12,
   "id": "01140df6",
   "metadata": {},
   "outputs": [
    {
     "name": "stdout",
     "output_type": "stream",
     "text": [
      "[3, 12]\n"
     ]
    }
   ],
   "source": [
    "from math import gcd\n",
    "\n",
    "def solution(n, m):\n",
    "    answer = []\n",
    "    gc = gcd(n,m)\n",
    "    answer.append(gc)\n",
    "    answer.append(gc * (n // gc) * (m // gc))\n",
    "    return answer\n",
    "\n",
    "print(solution(3, 12))"
   ]
  },
  {
   "attachments": {
    "image.png": {
     "image/png": "[encoded data removed]"
    }
   },
   "cell_type": "markdown",
   "id": "24ec4567",
   "metadata": {},
   "source": [
    "+ ![image.png](attachment:image.png)"
   ]
  },
  {
   "cell_type": "markdown",
   "id": "78509a40",
   "metadata": {},
   "source": [
    "## 4. 최댓값과 최솟값\n",
    "\n",
    "#### 문제 설명\n",
    "\n",
    "문자열 s에는 공백으로 구분된 숫자들이 저장되어 있습니다. str에 나타나는 숫자 중 최소값과 최대값을 찾아 이를 \"(최소값) (최대값)\"형태의 문자열을 반환하는 함수, solution을 완성하세요.\n",
    "예를들어 s가 \"1 2 3 4\"라면 \"1 4\"를 리턴하고, \"-1 -2 -3 -4\"라면 \"-4 -1\"을 리턴하면 됩니다.\n",
    "\n",
    "#### 제한 조건\n",
    "\n",
    "s에는 둘 이상의 정수가 공백으로 구분되어 있습니다.\n",
    "\n",
    "#### 입출력 예\n",
    "\n",
    "```\n",
    "    s\t        return\n",
    "\"1 2 3 4\"\t    \"1 4\"\n",
    "\"-1 -2 -3 -4\"\t\"-4 -1\"\n",
    "\"-1 -1\"\t        \"-1 -1\"\n",
    "```"
   ]
  },
  {
   "cell_type": "code",
   "execution_count": 43,
   "id": "aef21df0",
   "metadata": {},
   "outputs": [
    {
     "name": "stdout",
     "output_type": "stream",
     "text": [
      "-3 4\n"
     ]
    }
   ],
   "source": [
    "def solution(s):\n",
    "    answer = []\n",
    "    tmp1 = [] # 음수\n",
    "    tmp2 = [] # 양수\n",
    "    s = s.split(' ')\n",
    "    s = list(map(int, s))\n",
    "\n",
    "    for i in range(len(s)):\n",
    "        if s[i] < 0:\n",
    "            tmp1.append(s[i]) \n",
    "        else:\n",
    "            tmp2.append(s[i])\n",
    "\n",
    "    tmp2 = sorted(tmp2)\n",
    "    tmp1 = sorted(tmp1)\n",
    "    \n",
    "    if len(tmp1) > 0 and len(tmp2) > 0:\n",
    "        answer.append(tmp1[0])\n",
    "        answer.append(tmp2[len(tmp2)-1])\n",
    "\n",
    "    elif len(tmp1) == 0 and len(tmp2) > 0:\n",
    "        answer.append(tmp2[0])\n",
    "        answer.append(tmp2[len(tmp2)-1])\n",
    "\n",
    "    else:\n",
    "        answer.append(tmp1[0])\n",
    "        answer.append(tmp1[len(tmp2)-1])\n",
    "    \n",
    "    string = ' '.join(str(_) for _ in answer)\n",
    "    \n",
    "    return string\n",
    "\n",
    "print(solution(\"-1 2 4 -1 -3\"))"
   ]
  },
  {
   "cell_type": "markdown",
   "id": "d7747e7e",
   "metadata": {},
   "source": [
    "+ 리스트 배열이 정수형일때는 리스트 정수형을 리스트 문자열로 반환한 뒤 문자열로 바꿔야한다.\n",
    "\n",
    "```\n",
    "string = ' '.join(str(_) for _ in answer)\n",
    "```"
   ]
  },
  {
   "cell_type": "markdown",
   "id": "1c70c233",
   "metadata": {},
   "source": [
    "## 5. 짝수와 홀수\n",
    "\n",
    "#### 문제 설명\n",
    "\n",
    "정수 num이 짝수일 경우 \"Even\"을 반환하고 홀수인 경우 \"Odd\"를 반환하는 함수, solution을 완성해주세요.\n",
    "\n",
    "#### 제한 조건\n",
    "\n",
    "num은 int 범위의 정수입니다.\n",
    "0은 짝수입니다.\n",
    "\n",
    "#### 입출력 예\n",
    "```\n",
    "num\treturn\n",
    "3\t\"Odd\"\n",
    "4\t\"Even\"\n",
    "```"
   ]
  },
  {
   "cell_type": "code",
   "execution_count": 56,
   "id": "f97e8815",
   "metadata": {},
   "outputs": [
    {
     "data": {
      "text/plain": [
       "'Odd'"
      ]
     },
     "execution_count": 56,
     "metadata": {},
     "output_type": "execute_result"
    }
   ],
   "source": [
    "def solution(num):\n",
    "    if num % 2 == 0:\n",
    "        return \"Even\"\n",
    "    else:\n",
    "        return \"Odd\"\n",
    "solution(13)"
   ]
  },
  {
   "cell_type": "markdown",
   "id": "afe754b1",
   "metadata": {},
   "source": [
    "+ 아래 코드 왜 안되는지 모르겠다..\n",
    "```\n",
    "def solution(num):\n",
    "    answer = \"Even\" if (num % 2 == 0) else answer = \"Odd\"\n",
    "    return answer\n",
    "solution(12)\n",
    "```"
   ]
  },
  {
   "cell_type": "markdown",
   "id": "60eb6358",
   "metadata": {},
   "source": [
    "## 6. 제일 작은 수 제거하기\n",
    "\n",
    "#### 문제 설명\n",
    "\n",
    "정수를 저장한 배열, arr 에서 가장 작은 수를 제거한 배열을 리턴하는 함수, solution을 완성해주세요. 단, 리턴하려는 배열이 빈 배열인 경우엔 배열에 -1을 채워 리턴하세요. 예를들어 arr이 [4,3,2,1]인 경우는 [4,3,2]를 리턴 하고, [10]면 [-1]을 리턴 합니다.\n",
    "\n",
    "#### 제한 조건\n",
    "\n",
    "arr은 길이 1 이상인 배열입니다.\n",
    "인덱스 i, j에 대해 i ≠ j이면 arr[i] ≠ arr[j] 입니다.\n",
    "\n",
    "#### 입출력 예\n",
    "```\n",
    "   arr\t     return\n",
    "[4,3,2,1]\t[4,3,2]\n",
    "[10]\t    [-1]\n",
    "```"
   ]
  },
  {
   "cell_type": "code",
   "execution_count": 67,
   "id": "cc6a68f8",
   "metadata": {},
   "outputs": [
    {
     "name": "stdout",
     "output_type": "stream",
     "text": [
      "[-1]\n"
     ]
    }
   ],
   "source": [
    "def solution(arr):\n",
    "    \n",
    "    if len(arr) > 1:\n",
    "        arr.remove(min(arr))\n",
    "        return arr\n",
    "        \n",
    "    else:\n",
    "        answer = [-1]\n",
    "        return answer\n",
    "        \n",
    "\n",
    "arr = [10]\n",
    "print(solution(arr))"
   ]
  },
  {
   "cell_type": "markdown",
   "id": "1fef6da6",
   "metadata": {},
   "source": [
    "## 7. 정수 제곱근 판별\n",
    "\n",
    "#### 문제 설명\n",
    "\n",
    "임의의 양의 정수 n에 대해, n이 어떤 양의 정수 x의 제곱인지 아닌지 판단하려 합니다.\n",
    "n이 양의 정수 x의 제곱이라면 x+1의 제곱을 리턴하고, n이 양의 정수 x의 제곱이 아니라면 -1을 리턴하는 함수를 완성하세요.\n",
    "\n",
    "#### 제한 사항\n",
    "\n",
    "n은 1이상, 50000000000000 이하인 양의 정수입니다.\n",
    "\n",
    "#### 입출력 예\n",
    "```\n",
    " n\t   return\n",
    "121\t   144\n",
    "3\t   -1\n",
    "```\n",
    "\n",
    "#### 입출력 예 설명\n",
    "\n",
    "입출력 예#1\n",
    "121은 양의 정수 11의 제곱이므로, (11+1)를 제곱한 144를 리턴합니다.\n",
    "\n",
    "입출력 예#2\n",
    "3은 양의 정수의 제곱이 아니므로, -1을 리턴합니다."
   ]
  },
  {
   "cell_type": "code",
   "execution_count": 12,
   "id": "c927834b",
   "metadata": {},
   "outputs": [
    {
     "name": "stdout",
     "output_type": "stream",
     "text": [
      "-1\n"
     ]
    }
   ],
   "source": [
    "def solution(n):\n",
    "    i = 0\n",
    "    while(n>=i):\n",
    "        if(n == i*i):\n",
    "            answer = (i+1)**2\n",
    "            return answer\n",
    "        else:\n",
    "            i += 1\n",
    "    return -1\n",
    "        \n",
    "print(solution(3))"
   ]
  },
  {
   "cell_type": "markdown",
   "id": "7b3786cc",
   "metadata": {},
   "source": [
    "+ while 문안에서 i를 증가시키면서 n이 i의 제곱수가 되면 answer를 return하고 종료한다. i가 n보다 커지게 되면 제곱수가 없는 것으로 -1를 반환하고 종료한다."
   ]
  },
  {
   "cell_type": "markdown",
   "id": "5119a0c1",
   "metadata": {},
   "source": [
    "## 8. 정수 내림차순으로 배치하기\n",
    "\n",
    "#### 문제 설명\n",
    "\n",
    "함수 solution은 정수 n을 매개변수로 입력받습니다. n의 각 자릿수를 큰것부터 작은 순으로 정렬한 새로운 정수를 리턴해주세요. 예를들어 n이 118372면 873211을 리턴하면 됩니다.\n",
    "\n",
    "#### 제한 조건\n",
    "\n",
    "n은 1이상 8000000000 이하인 자연수입니다.\n",
    "\n",
    "#### 입출력 예\n",
    "```\n",
    "n\t    return\n",
    "118372\t873211\n",
    "```"
   ]
  },
  {
   "cell_type": "code",
   "execution_count": 35,
   "id": "e8b0fb1f",
   "metadata": {},
   "outputs": [
    {
     "name": "stdout",
     "output_type": "stream",
     "text": [
      "873211\n"
     ]
    }
   ],
   "source": [
    "def solution(n):\n",
    "    answer = list(map(int, str(n)))\n",
    "    answer.sort(reverse = True)\n",
    "    answer = int(''.join(str(_) for _ in answer))\n",
    "    return answer\n",
    "\n",
    "print(solution(118372))"
   ]
  },
  {
   "cell_type": "markdown",
   "id": "3594e5ee",
   "metadata": {},
   "source": [
    "+ 리스트 배열이 정수형일때는 리스트 정수형을 리스트 문자열로 반환한 뒤 문자열로 바꿔야한다.\n",
    "\n",
    "```\n",
    "string = ' '.join(str(_) for _ in answer)\n",
    "```"
   ]
  },
  {
   "cell_type": "markdown",
   "id": "7334209d",
   "metadata": {},
   "source": [
    "## 9. 자연수 뒤집어 배열로 만들기\n",
    "\n",
    "#### 문제 설명\n",
    "\n",
    "자연수 n을 뒤집어 각 자리 숫자를 원소로 가지는 배열 형태로 리턴해주세요. 예를들어 n이 12345이면 [5,4,3,2,1]을 리턴합니다.\n",
    "\n",
    "#### 제한 조건\n",
    "\n",
    "n은 10,000,000,000이하인 자연수입니다.\n",
    "\n",
    "#### 입출력 예\n",
    "```\n",
    "n\t    return\n",
    "12345\t[5,4,3,2,1]\n",
    "```"
   ]
  },
  {
   "cell_type": "code",
   "execution_count": 5,
   "id": "ca38b93a",
   "metadata": {},
   "outputs": [
    {
     "name": "stdout",
     "output_type": "stream",
     "text": [
      "[5, 4, 3, 2, 1]\n"
     ]
    }
   ],
   "source": [
    "def solution(n):\n",
    "    answer = list(map(int, str(n)))\n",
    "    answer.reverse()\n",
    "    return answer\n",
    "\n",
    "print(solution(12345))"
   ]
  },
  {
   "cell_type": "markdown",
   "id": "de58450c",
   "metadata": {},
   "source": [
    "### reverse()와 reversed()의 차이점\n",
    "\n",
    "-----------------------------------\n",
    "\n",
    "1. reverse()\n",
    "- list 타입에서 제공하는 함수\n",
    "- 기본형 = list.reverse()\n",
    "- 리스트 값을 반환하는 것이 아니라 변환시켜주는거라 print(list.reverse())는 None으로 출력됨 (그래서 list = list.reverse() 이렇게 사용해야함)\n",
    "\n",
    "```\n",
    "\n",
    "l = ['a', 'b', 'c']\n",
    "l_reverse = l.reverse()\n",
    "\n",
    "print(l_reverse)  \n",
    "print(l) \n",
    "\n",
    "```\n",
    "#### 결과\n",
    "\n",
    "None\n",
    "\n",
    "['c', 'b', 'a']\n",
    "\n",
    "-----------------------------------\n",
    "\n",
    "2. reversed()\n",
    "- reversed는 내장함수로, list에서 제공하는 함수가 아님\n",
    "- 기본형 = reversed(var)\n",
    "\n",
    "```\n",
    "\n",
    "l = ['a', 'b', 'c']\n",
    "t = ('a', 'b', 'c')\n",
    "s = 'abc'\n",
    "\n",
    "list_1 = list(reversed(l))  # ['c', 'b', 'a']\n",
    "tuple_1 = tuple(reversed(t))  # ('c', 'b', 'a')\n",
    "string = str(reversed(s))\n",
    "string_list = list(reversed(s))\n",
    "string_tuple = tuple(reversed(s))\n",
    "\n",
    "\n",
    "print(list_1)\n",
    "print(tuple_1)\n",
    "print(string)\n",
    "print(string_list)\n",
    "print(string_tuple)\n",
    "\n",
    "```\n",
    "#### 결과\n",
    "\n",
    "['c', 'b', 'a']\n",
    "\n",
    "('c', 'b', 'a')\n",
    "\n",
    "<reversed object at 0x000002E2699BA130>\n",
    "\n",
    "['c', 'b', 'a']\n",
    "\n",
    "('c', 'b', 'a')\n",
    "\n",
    "-------------------------------------------------\n"
   ]
  },
  {
   "cell_type": "markdown",
   "id": "f163858c",
   "metadata": {},
   "source": [
    "## 10. 자릿수 더하기\n",
    "\n",
    "#### 문제 설명\n",
    "\n",
    "자연수 N이 주어지면, N의 각 자릿수의 합을 구해서 return 하는 solution 함수를 만들어 주세요.\n",
    "예를들어 N = 123이면 1 + 2 + 3 = 6을 return 하면 됩니다.\n",
    "\n",
    "### 제한사항\n",
    "\n",
    "N의 범위 : 100,000,000 이하의 자연수\n",
    "\n",
    "#### 입출력 예\n",
    "\n",
    "```\n",
    "N\tanswer\n",
    "123\t6\n",
    "987\t24\n",
    "```\n",
    "\n",
    "#### 입출력 예 설명\n",
    "\n",
    "입출력 예 #1\n",
    "문제의 예시와 같습니다.\n",
    "\n",
    "입출력 예 #2\n",
    "9 + 8 + 7 = 24이므로 24를 return 하면 됩니다."
   ]
  },
  {
   "cell_type": "code",
   "execution_count": 20,
   "id": "04cc1fe4",
   "metadata": {},
   "outputs": [
    {
     "name": "stdout",
     "output_type": "stream",
     "text": [
      "6\n"
     ]
    }
   ],
   "source": [
    "## 내 코드 아님\n",
    "def solution(number):\n",
    "    return sum([int(i) for i in str(number)])\n",
    "\n",
    "print(solution(123))"
   ]
  },
  {
   "cell_type": "code",
   "execution_count": null,
   "id": "0f7115bf",
   "metadata": {},
   "outputs": [],
   "source": []
  }
 ],
 "metadata": {
  "kernelspec": {
   "display_name": "Python 3",
   "language": "python",
   "name": "python3"
  },
  "language_info": {
   "codemirror_mode": {
    "name": "ipython",
    "version": 3
   },
   "file_extension": ".py",
   "mimetype": "text/x-python",
   "name": "python",
   "nbconvert_exporter": "python",
   "pygments_lexer": "ipython3",
   "version": "3.8.8"
  }
 },
 "nbformat": 4,
 "nbformat_minor": 5
}
