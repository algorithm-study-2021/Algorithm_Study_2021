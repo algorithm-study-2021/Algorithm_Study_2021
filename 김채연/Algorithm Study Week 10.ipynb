{
 "cells": [
  {
   "cell_type": "markdown",
   "id": "e226d9d9",
   "metadata": {},
   "source": [
    "## 1. 큰 수 만들기\n",
    "\n",
    "#### 문제 URL: https://programmers.co.kr/learn/courses/30/lessons/42883?language=python3\n"
   ]
  },
  {
   "cell_type": "code",
   "execution_count": 1,
   "id": "48e2802a",
   "metadata": {},
   "outputs": [
    {
     "data": {
      "text/plain": [
       "'94'"
      ]
     },
     "execution_count": 1,
     "metadata": {},
     "output_type": "execute_result"
    }
   ],
   "source": [
    "def solution(number, k):\n",
    "    stack = [number[0]] # 스택에 냅다 차례대로 집어넣음\n",
    "    for num in number[1:]:\n",
    "        # 들어오는 값이 stack 값보다 크면, 기존의 값을 제거하고 새로운 값으로 바꿈 \n",
    "        # 참고 : len(stack) > 0 == stack\n",
    "        while len(stack) > 0 and stack[-1] < num and k > 0:\n",
    "            # 값을 한개 빼서 k는 1이 제거 \n",
    "            k -= 1\n",
    "            stack.pop() # pop()으로 값 제거\n",
    "        stack.append(num) # 새로운 값을 삽입 \n",
    "    # 만일 충분히 제거하지 못했으면 남은 부분은 단순하게 삭제\n",
    "    # 이렇게 해도 되는 이유는 이미 큰 수부터 앞에서 채워넣었기 때문 \n",
    "    if k != 0:\n",
    "        stack = stack[:-k]\n",
    "    return ''.join(stack)\n",
    "solution(\"1924\", 2)"
   ]
  },
  {
   "cell_type": "markdown",
   "id": "801e59c0",
   "metadata": {},
   "source": [
    "## 2. 카펫\n",
    "\n",
    "#### 문제URL: https://programmers.co.kr/learn/courses/30/lessons/42842"
   ]
  },
  {
   "cell_type": "code",
   "execution_count": 3,
   "id": "87641248",
   "metadata": {},
   "outputs": [
    {
     "data": {
      "text/plain": [
       "[4, 3]"
      ]
     },
     "execution_count": 3,
     "metadata": {},
     "output_type": "execute_result"
    }
   ],
   "source": [
    "def solution(brown, yellow):\n",
    "    answer = []\n",
    "    total = brown + yellow                  # a * b = total\n",
    "    for b in range(1,total+1):\n",
    "        if (total / b) % 1 == 0:            # total / b = a\n",
    "            a = total / b\n",
    "            if a >= b:                      # a >= b\n",
    "                if 2*a + 2*b == brown + 4:  # 2*a + 2*b = brown + 4 \n",
    "                    a = int(a)\n",
    "                    return [a,b]\n",
    "            \n",
    "    return answer\n",
    "solution(10,2)"
   ]
  },
  {
   "cell_type": "markdown",
   "id": "986efcf8",
   "metadata": {},
   "source": [
    "## 3. H-Index\n",
    "\n",
    "#### 문제 URL: https://programmers.co.kr/learn/courses/30/lessons/42747\n"
   ]
  },
  {
   "cell_type": "code",
   "execution_count": 6,
   "id": "a3f02675",
   "metadata": {},
   "outputs": [
    {
     "data": {
      "text/plain": [
       "3"
      ]
     },
     "execution_count": 6,
     "metadata": {},
     "output_type": "execute_result"
    }
   ],
   "source": [
    "def solution(citations):\n",
    "    citations.sort()\n",
    "    article_count = len(citations)\n",
    "    for i in range(article_count):\n",
    "        if citations[i] >= article_count-i: # h번 이상 인용된 논문이 h편 이상\n",
    "            return article_count-i # 인용된 논문의 개수를 최댓값부터 1씩 뺌\n",
    "    # 리스트가 오름차순 정렬되어있으므로 i번째 이후는 모두 i번째보다 큰 값을 가짐\n",
    "    return 0\n",
    "solution([3, 0, 6, 1, 5])"
   ]
  },
  {
   "cell_type": "markdown",
   "id": "b2d9c48e",
   "metadata": {},
   "source": [
    "## 4. 다리를 지나는 트럭 (실패)\n",
    "\n",
    "#### 문제 URL: https://programmers.co.kr/learn/courses/30/lessons/42583"
   ]
  },
  {
   "cell_type": "code",
   "execution_count": 8,
   "id": "c5c8a460",
   "metadata": {},
   "outputs": [
    {
     "data": {
      "text/plain": [
       "8"
      ]
     },
     "execution_count": 8,
     "metadata": {},
     "output_type": "execute_result"
    }
   ],
   "source": [
    "from collections import deque\n",
    "\n",
    "def solution(bridge_length, weight, truck_weights):\n",
    "    time = 0\n",
    "    bridgeWeight = 0 # 다리 위의 트럭 무게\n",
    "    waiting = deque(truck_weights) # 대기 트럭 큐\n",
    "    bridge = deque([0 for _ in range(bridge_length)]) # 다리 길이만큼 0으로 채운다.\n",
    "    \n",
    "    while len(waiting) or bridgeWeight > 0: # 대기 트럭이 있거나 이동 중인 트럭이 있는 동안 반복\n",
    "        removedTruck = bridge.popleft() # 다리에서 하나 제거\n",
    "        bridgeWeight -= removedTruck\n",
    "        \n",
    "        if len(waiting) and bridgeWeight + waiting[0] <= weight: # 새 트럭이 다리에 올라갈 수 있으면\n",
    "            newTruck = waiting.popleft()\n",
    "            bridgeWeight += newTruck\n",
    "            \n",
    "            bridge.append(newTruck) # 대기 트럭에서 하나 빼서 다리에 올림\n",
    "            \n",
    "        else: # 새 트럭이 다리에 올라갈 수 없으면\n",
    "            bridge.append(0) # 오른쪽에 0을 삽입해서 다리 길이 유지\n",
    "            \n",
    "        time += 1\n",
    "    return time\n",
    "solution(2, 10, [7,4,5,6])"
   ]
  },
  {
   "cell_type": "markdown",
   "id": "ca7ffdc9",
   "metadata": {},
   "source": [
    "## 5. 위장\n",
    "\n",
    "#### 문제 URL: https://programmers.co.kr/learn/courses/30/lessons/42578"
   ]
  },
  {
   "cell_type": "code",
   "execution_count": 9,
   "id": "70528fbe",
   "metadata": {},
   "outputs": [
    {
     "data": {
      "text/plain": [
       "5"
      ]
     },
     "execution_count": 9,
     "metadata": {},
     "output_type": "execute_result"
    }
   ],
   "source": [
    "def solution(clothes):\n",
    "    answer = 0\n",
    "    cloths = {}\n",
    "    \n",
    "    for name, kind in clothes: # 종류별로 저장\n",
    "        if kind in cloths: # 없으면\n",
    "            cloths[kind]+=1 # 개수 +1\n",
    "        else: # 있으면\n",
    "            cloths[kind] = 1 # 그냥 한 벌\n",
    "    \n",
    "    answer = 1\n",
    "    for key, value in cloths.items(): # 아이템 개수를 한개씩 뽑아와서\n",
    "        answer *= (value+1) # 확률\n",
    "        \n",
    "    return answer-1 # 안입는 경우 빼기 (**중요..)\n",
    "solution([[\"yellowhat\", \"headgear\"], [\"bluesunglasses\", \"eyewear\"], [\"green_turban\", \"headgear\"]])"
   ]
  },
  {
   "cell_type": "code",
   "execution_count": null,
   "id": "504e9d27",
   "metadata": {},
   "outputs": [],
   "source": []
  }
 ],
 "metadata": {
  "kernelspec": {
   "display_name": "Python 3",
   "language": "python",
   "name": "python3"
  },
  "language_info": {
   "codemirror_mode": {
    "name": "ipython",
    "version": 3
   },
   "file_extension": ".py",
   "mimetype": "text/x-python",
   "name": "python",
   "nbconvert_exporter": "python",
   "pygments_lexer": "ipython3",
   "version": "3.8.8"
  }
 },
 "nbformat": 4,
 "nbformat_minor": 5
}
